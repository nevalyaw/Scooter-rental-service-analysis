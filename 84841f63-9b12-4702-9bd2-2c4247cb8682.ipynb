{
 "cells": [
  {
   "cell_type": "markdown",
   "id": "4e966293",
   "metadata": {},
   "source": [
    "# Исследование сервиса GoFast\n",
    "\n",
    "Вы аналитик популярного сервиса аренды самокатов GoFast. Вам передали данные о некоторых пользователях из нескольких городов, а также об их поездках. Проанализируйте данные и проверьте некоторые гипотезы, которые могут помочь бизнесу вырасти.\n",
    "Чтобы совершать поездки по городу, пользователи сервиса GoFast пользуются мобильным приложением. \\\n",
    "Сервисом можно пользоваться:\n",
    " - без подписки:\\\n",
    "   абонентская плата отсутствует;\\\n",
    "   стоимость одной минуты поездки — 8 рублей;\\\n",
    "   стоимость старта (начала поездки) — 50 рублей;\n",
    " - с подпиской Ultra:\\\n",
    "   абонентская плата — 199 рублей в месяц;\\\n",
    "   стоимость одной минуты поездки — 6 рублей;\\\n",
    "   стоимость старта — бесплатно.\n",
    "\n",
    "### Цель исследования:\n",
    "\n",
    "  1) Описать и визуализировать общую информацию (количество поездок, расстояние одной поездки, возраст пользователей и т.д.);\\\n",
    "  2) Изучить информацию о пользователях без подписки и с ней;\\\n",
    "  3) Подсчитать выручку с каждого пользователя;\\\n",
    "  4) Проверить необходимые гипотезы.\n",
    "  \n",
    "   #### Ход исследования:\n",
    "  \n",
    "   Данные получим из трёх файлов: /datasets/users_go.csv, /datasets/rides_go.csv, /datasets/subscriptions_go.csv. О качестве данных ничего не известно, поэтому необходимо будет тщательно изучить их.\n",
    "   \n",
    "   На этапе предобработки данных найдём все пропущенные значения, обработаем их, удалим явные выбросы, избавимся от дубликатов. После этого совместим все данные в одну таблицу, создадим ещё 2 датафрейма отдельно для пользователей с подпиской и без и начнём достигать цели исследования.\n",
    "   \n",
    "   Таким образом, работа состоит из следующих этапов:\n",
    "   \n",
    "   - обзор полученных данных;\n",
    "   - предобработка данных;\n",
    "   - добавление необходимой информации в таблицу;\n",
    "   - проведение анализа по конкретным столбцам;\n",
    "   - совмещение датафреймов и создание новых;\n",
    "   - подсчёт выручки;\n",
    "   - проверка гипотез;\n",
    "   - подобрать распределения для акций компании;\n",
    "   - написание общего вывода."
   ]
  },
  {
   "cell_type": "markdown",
   "id": "c42cbe00",
   "metadata": {},
   "source": [
    "### Загрузка данных"
   ]
  },
  {
   "cell_type": "markdown",
   "id": "deeea8f3",
   "metadata": {},
   "source": [
    "Импортируем все необходимые библиотеки:"
   ]
  },
  {
   "cell_type": "code",
   "execution_count": 291,
   "id": "eff9f206",
   "metadata": {},
   "outputs": [],
   "source": [
    "#Импорт необходимых библиотек:\n",
    "import pandas as pd\n",
    "import matplotlib.pyplot as plt\n",
    "import numpy as np\n",
    "from math import factorial\n",
    "from scipy import stats as st"
   ]
  },
  {
   "cell_type": "markdown",
   "id": "1d25dd2d",
   "metadata": {},
   "source": [
    "Имеем три исходных таблицы, прочитаем их:"
   ]
  },
  {
   "cell_type": "code",
   "execution_count": 292,
   "id": "2e69db87",
   "metadata": {},
   "outputs": [],
   "source": [
    "#Прочитаем таблицы и сохраним их:\n",
    "users_data = pd.read_csv('/datasets/users_go.csv')\n",
    "rides_data = pd.read_csv('/datasets/rides_go.csv')\n",
    "subscriptions_data = pd.read_csv('/datasets/subscriptions_go.csv')"
   ]
  },
  {
   "cell_type": "markdown",
   "id": "5d622682",
   "metadata": {},
   "source": [
    "Изучим каждую по очереди. Для этого выведем по 5 строк и общую информацию:"
   ]
  },
  {
   "cell_type": "code",
   "execution_count": 293,
   "id": "c67903fd",
   "metadata": {},
   "outputs": [
    {
     "name": "stdout",
     "output_type": "stream",
     "text": [
      "   user_id        name  age            city subscription_type\n",
      "0        1        Кира   22          Тюмень             ultra\n",
      "1        2   Станислав   31            Омск             ultra\n",
      "2        3     Алексей   20          Москва             ultra\n",
      "3        4  Константин   26  Ростов-на-Дону             ultra\n",
      "4        5       Адель   28            Омск             ultra\n",
      "<class 'pandas.core.frame.DataFrame'>\n",
      "RangeIndex: 1565 entries, 0 to 1564\n",
      "Data columns (total 5 columns):\n",
      " #   Column             Non-Null Count  Dtype \n",
      "---  ------             --------------  ----- \n",
      " 0   user_id            1565 non-null   int64 \n",
      " 1   name               1565 non-null   object\n",
      " 2   age                1565 non-null   int64 \n",
      " 3   city               1565 non-null   object\n",
      " 4   subscription_type  1565 non-null   object\n",
      "dtypes: int64(2), object(3)\n",
      "memory usage: 61.3+ KB\n"
     ]
    }
   ],
   "source": [
    "#Изучим таблицу с пользователями:\n",
    "print(users_data.head())\n",
    "users_data.info()"
   ]
  },
  {
   "cell_type": "code",
   "execution_count": 294,
   "id": "7264fb76",
   "metadata": {},
   "outputs": [
    {
     "name": "stdout",
     "output_type": "stream",
     "text": [
      "   user_id     distance   duration        date\n",
      "0        1  4409.919140  25.599769  2021-01-01\n",
      "1        1  2617.592153  15.816871  2021-01-18\n",
      "2        1   754.159807   6.232113  2021-04-20\n",
      "3        1  2694.783254  18.511000  2021-08-11\n",
      "4        1  4028.687306  26.265803  2021-08-28\n",
      "<class 'pandas.core.frame.DataFrame'>\n",
      "RangeIndex: 18068 entries, 0 to 18067\n",
      "Data columns (total 4 columns):\n",
      " #   Column    Non-Null Count  Dtype  \n",
      "---  ------    --------------  -----  \n",
      " 0   user_id   18068 non-null  int64  \n",
      " 1   distance  18068 non-null  float64\n",
      " 2   duration  18068 non-null  float64\n",
      " 3   date      18068 non-null  object \n",
      "dtypes: float64(2), int64(1), object(1)\n",
      "memory usage: 564.8+ KB\n"
     ]
    }
   ],
   "source": [
    "#Изучим таблицу с поездками:\n",
    "print(rides_data.head())\n",
    "rides_data.info()"
   ]
  },
  {
   "cell_type": "code",
   "execution_count": 295,
   "id": "9e108441",
   "metadata": {
    "scrolled": true
   },
   "outputs": [
    {
     "name": "stdout",
     "output_type": "stream",
     "text": [
      "  subscription_type  minute_price  start_ride_price  subscription_fee\n",
      "0              free             8                50                 0\n",
      "1             ultra             6                 0               199\n",
      "<class 'pandas.core.frame.DataFrame'>\n",
      "RangeIndex: 2 entries, 0 to 1\n",
      "Data columns (total 4 columns):\n",
      " #   Column             Non-Null Count  Dtype \n",
      "---  ------             --------------  ----- \n",
      " 0   subscription_type  2 non-null      object\n",
      " 1   minute_price       2 non-null      int64 \n",
      " 2   start_ride_price   2 non-null      int64 \n",
      " 3   subscription_fee   2 non-null      int64 \n",
      "dtypes: int64(3), object(1)\n",
      "memory usage: 192.0+ bytes\n"
     ]
    }
   ],
   "source": [
    "#Изучим таблицу с тарифами:\n",
    "print(subscriptions_data.head())\n",
    "subscriptions_data.info()"
   ]
  },
  {
   "cell_type": "markdown",
   "id": "29bdbd5b",
   "metadata": {},
   "source": [
    "#### Вывод: \n",
    "Из приятного: сразу видим, что пропусков нет. На полторы тысячи пользователей приходится около 18000 поездок, вполне успешное предприятие. Тип данных в столбце \"date\" нуждается в правке."
   ]
  },
  {
   "cell_type": "markdown",
   "id": "e95ebca7",
   "metadata": {},
   "source": [
    "### Предобработка данных"
   ]
  },
  {
   "cell_type": "markdown",
   "id": "c67a9efb",
   "metadata": {},
   "source": [
    "Первым делом проверим таблицу с пользователями и поездками на явные дубликаты:"
   ]
  },
  {
   "cell_type": "code",
   "execution_count": 296,
   "id": "af6d202c",
   "metadata": {},
   "outputs": [
    {
     "name": "stdout",
     "output_type": "stream",
     "text": [
      "31\n",
      "0\n"
     ]
    }
   ],
   "source": [
    "#Проверка на явные дубликаты:\n",
    "print(users_data.duplicated().sum())\n",
    "print(rides_data.duplicated().sum())"
   ]
  },
  {
   "cell_type": "markdown",
   "id": "a93e3d7d",
   "metadata": {},
   "source": [
    "Удалим обнаруженные дубликаты из таблицы с пользователями:"
   ]
  },
  {
   "cell_type": "code",
   "execution_count": 297,
   "id": "b506713c",
   "metadata": {},
   "outputs": [
    {
     "name": "stdout",
     "output_type": "stream",
     "text": [
      "<class 'pandas.core.frame.DataFrame'>\n",
      "Int64Index: 1534 entries, 0 to 1533\n",
      "Data columns (total 5 columns):\n",
      " #   Column             Non-Null Count  Dtype \n",
      "---  ------             --------------  ----- \n",
      " 0   user_id            1534 non-null   int64 \n",
      " 1   name               1534 non-null   object\n",
      " 2   age                1534 non-null   int64 \n",
      " 3   city               1534 non-null   object\n",
      " 4   subscription_type  1534 non-null   object\n",
      "dtypes: int64(2), object(3)\n",
      "memory usage: 71.9+ KB\n"
     ]
    }
   ],
   "source": [
    "#Удаление явных дубликатов:\n",
    "users_data = users_data.drop_duplicates()\n",
    "users_data.info()"
   ]
  },
  {
   "cell_type": "markdown",
   "id": "bb254264",
   "metadata": {},
   "source": [
    "Убедимся, что пользователи теперь действительно не повторяются:"
   ]
  },
  {
   "cell_type": "code",
   "execution_count": 298,
   "id": "23a3c7b1",
   "metadata": {},
   "outputs": [
    {
     "data": {
      "text/plain": [
       "0"
      ]
     },
     "execution_count": 298,
     "metadata": {},
     "output_type": "execute_result"
    }
   ],
   "source": [
    "#Повторная проверка на явные дубликаты:\n",
    "users_data['user_id'].duplicated().sum()"
   ]
  },
  {
   "cell_type": "markdown",
   "id": "344133ae",
   "metadata": {},
   "source": [
    "Проверим названия городов на предмет неявных дубликатов:"
   ]
  },
  {
   "cell_type": "code",
   "execution_count": 299,
   "id": "e761d7c1",
   "metadata": {},
   "outputs": [
    {
     "data": {
      "text/plain": [
       "array(['Тюмень', 'Омск', 'Москва', 'Ростов-на-Дону', 'Краснодар',\n",
       "       'Пятигорск', 'Екатеринбург', 'Сочи'], dtype=object)"
      ]
     },
     "execution_count": 299,
     "metadata": {},
     "output_type": "execute_result"
    }
   ],
   "source": [
    "#Проверка на неявные дубликаты:\n",
    "users_data['city'].unique()"
   ]
  },
  {
   "cell_type": "markdown",
   "id": "641ad892",
   "metadata": {},
   "source": [
    "Маловато городов, хотя всего-то 1500 человек."
   ]
  },
  {
   "cell_type": "markdown",
   "id": "2258a2d9",
   "metadata": {},
   "source": [
    "Округлим значения расстояния и продолжительности поездок из второй таблицы до целых чисел в большую сторону:"
   ]
  },
  {
   "cell_type": "code",
   "execution_count": 300,
   "id": "77a06a5f",
   "metadata": {
    "scrolled": true
   },
   "outputs": [
    {
     "name": "stdout",
     "output_type": "stream",
     "text": [
      "   user_id  distance  duration        date\n",
      "0        1    4410.0      26.0  2021-01-01\n",
      "1        1    2618.0      16.0  2021-01-18\n",
      "2        1     755.0       7.0  2021-04-20\n",
      "3        1    2695.0      19.0  2021-08-11\n",
      "4        1    4029.0      27.0  2021-08-28\n"
     ]
    }
   ],
   "source": [
    "#Округление необходимых значений:\n",
    "rides_data['duration'] = np.ceil(rides_data['duration'])\n",
    "rides_data['distance'] = np.ceil(rides_data['distance'])\n",
    "print(rides_data.head())"
   ]
  },
  {
   "cell_type": "markdown",
   "id": "7f9076e0",
   "metadata": {},
   "source": [
    "Изменим тип данных в этих столбцах на целочисленный:"
   ]
  },
  {
   "cell_type": "code",
   "execution_count": 301,
   "id": "d8a86107",
   "metadata": {
    "scrolled": true
   },
   "outputs": [
    {
     "name": "stdout",
     "output_type": "stream",
     "text": [
      "<class 'pandas.core.frame.DataFrame'>\n",
      "RangeIndex: 18068 entries, 0 to 18067\n",
      "Data columns (total 4 columns):\n",
      " #   Column    Non-Null Count  Dtype \n",
      "---  ------    --------------  ----- \n",
      " 0   user_id   18068 non-null  int64 \n",
      " 1   distance  18068 non-null  int64 \n",
      " 2   duration  18068 non-null  int64 \n",
      " 3   date      18068 non-null  object\n",
      "dtypes: int64(3), object(1)\n",
      "memory usage: 564.8+ KB\n"
     ]
    }
   ],
   "source": [
    "#Изменим тип данных двух столбцов:\n",
    "rides_data['duration'] = rides_data['duration'].astype('int')\n",
    "rides_data['distance'] = rides_data['distance'].astype('int')\n",
    "rides_data.info()"
   ]
  },
  {
   "cell_type": "markdown",
   "id": "d0e3f43f",
   "metadata": {},
   "source": [
    "Проверим столбцы \"distance\" и \"duration\" на предмет выбросов:"
   ]
  },
  {
   "cell_type": "code",
   "execution_count": 302,
   "id": "3a1fc3f8",
   "metadata": {},
   "outputs": [
    {
     "data": {
      "image/png": "[encoded data removed]",
      "text/plain": [
       "<Figure size 432x288 with 1 Axes>"
      ]
     },
     "metadata": {
      "needs_background": "light"
     },
     "output_type": "display_data"
    },
    {
     "data": {
      "text/plain": [
       "count    18068.000000\n",
       "mean      3071.159841\n",
       "std       1116.831548\n",
       "min          1.000000\n",
       "25%       2543.750000\n",
       "50%       3134.000000\n",
       "75%       3777.000000\n",
       "max       7212.000000\n",
       "Name: distance, dtype: float64"
      ]
     },
     "execution_count": 302,
     "metadata": {},
     "output_type": "execute_result"
    }
   ],
   "source": [
    "#Диаграмма размаха для столбца \"distance\":\n",
    "rides_data.boxplot(column='distance')\n",
    "plt.show()\n",
    "\n",
    "rides_data['distance'].describe()"
   ]
  },
  {
   "cell_type": "markdown",
   "id": "ca9dba18",
   "metadata": {},
   "source": [
    "7 км достаточно большое расстояние, однако, учитывая города из выборки, вполне реальные данные. Взглянем на поездки менее 1 км:"
   ]
  },
  {
   "cell_type": "code",
   "execution_count": 303,
   "id": "9df066a7",
   "metadata": {},
   "outputs": [
    {
     "name": "stdout",
     "output_type": "stream",
     "text": [
      "       user_id  distance  duration        date\n",
      "11555     1069         1        11  2021-01-31\n",
      "9541       925         3         4  2021-10-19\n",
      "13690     1223         5         5  2021-05-22\n",
      "8658       861         7         7  2021-07-21\n",
      "7841       796         8        11  2021-11-26\n",
      "...        ...       ...       ...         ...\n",
      "15873     1381       996        11  2021-09-05\n",
      "4036       435       998        11  2021-04-22\n",
      "6451       694       998        12  2021-02-24\n",
      "12470     1137       999        13  2021-01-15\n",
      "13533     1213       999        11  2021-01-29\n",
      "\n",
      "[1371 rows x 4 columns]\n"
     ]
    }
   ],
   "source": [
    "#Поездки менее 1000 метров:\n",
    "print(rides_data.query('distance < 1000').sort_values('distance'))"
   ]
  },
  {
   "cell_type": "markdown",
   "id": "b95522a0",
   "metadata": {},
   "source": [
    "Обнаружили крайне малые значения расстояния. При этом время поездки достаточно большое, например, в первом случае. Конечно, человек мог застрять в сугробе и долго вытаскивать самокат из него, либо же просто забыть нажать кнопку завершения поездки, однако для нашего исследования это явный выброс. Посмотрим, сколько и какие строчки попадутся, если поставить ограничение в 300 метров:"
   ]
  },
  {
   "cell_type": "code",
   "execution_count": 304,
   "id": "08635df1",
   "metadata": {},
   "outputs": [
    {
     "name": "stdout",
     "output_type": "stream",
     "text": [
      "       user_id  distance  duration        date\n",
      "11555     1069         1        11  2021-01-31\n",
      "9541       925         3         4  2021-10-19\n",
      "13690     1223         5         5  2021-05-22\n",
      "8658       861         7         7  2021-07-21\n",
      "7841       796         8        11  2021-11-26\n",
      "...        ...       ...       ...         ...\n",
      "16909     1452       298        11  2021-03-01\n",
      "8235       829       299         7  2021-05-30\n",
      "15435     1350       299        13  2021-11-22\n",
      "12877     1165       299         7  2021-12-04\n",
      "13224     1192       299         7  2021-04-14\n",
      "\n",
      "[293 rows x 4 columns]\n"
     ]
    }
   ],
   "source": [
    "#Поездки менее 300 метров:\n",
    "print(rides_data.query('distance < 300').sort_values('distance'))"
   ]
  },
  {
   "cell_type": "markdown",
   "id": "433336fa",
   "metadata": {},
   "source": [
    "Около 2% от всей выборки. Аномально большие значения времени встречаются и для 300 метров. Удалим эту часть выборки для более адекватных результатов в будущем:"
   ]
  },
  {
   "cell_type": "code",
   "execution_count": 305,
   "id": "1df141fc",
   "metadata": {},
   "outputs": [
    {
     "name": "stdout",
     "output_type": "stream",
     "text": [
      "<class 'pandas.core.frame.DataFrame'>\n",
      "Int64Index: 17775 entries, 0 to 18067\n",
      "Data columns (total 4 columns):\n",
      " #   Column    Non-Null Count  Dtype \n",
      "---  ------    --------------  ----- \n",
      " 0   user_id   17775 non-null  int64 \n",
      " 1   distance  17775 non-null  int64 \n",
      " 2   duration  17775 non-null  int64 \n",
      " 3   date      17775 non-null  object\n",
      "dtypes: int64(3), object(1)\n",
      "memory usage: 694.3+ KB\n"
     ]
    }
   ],
   "source": [
    "#Удаление нефизичных данных:\n",
    "rides_data = rides_data[rides_data['distance'] >= 300]\n",
    "rides_data.info()"
   ]
  },
  {
   "cell_type": "code",
   "execution_count": 306,
   "id": "73fd88e6",
   "metadata": {},
   "outputs": [
    {
     "data": {
      "image/png": "[encoded data removed]",
      "text/plain": [
       "<Figure size 432x288 with 1 Axes>"
      ]
     },
     "metadata": {
      "needs_background": "light"
     },
     "output_type": "display_data"
    },
    {
     "data": {
      "text/plain": [
       "count    17775.000000\n",
       "mean        18.460985\n",
       "std          6.000697\n",
       "min          1.000000\n",
       "25%         14.000000\n",
       "50%         18.000000\n",
       "75%         22.000000\n",
       "max         41.000000\n",
       "Name: duration, dtype: float64"
      ]
     },
     "execution_count": 306,
     "metadata": {},
     "output_type": "execute_result"
    }
   ],
   "source": [
    "#Диаграмма размаха для продолжительности поездок:\n",
    "rides_data.boxplot(column='duration')\n",
    "plt.show()\n",
    "\n",
    "rides_data['duration'].describe()"
   ]
  },
  {
   "cell_type": "markdown",
   "id": "5af01dfb",
   "metadata": {},
   "source": [
    "Время в 35+ минут вполне подходит для расстояний в 5+ км. Выведем конкретные строки таблицы, чтобы убедиться в этом предположении:"
   ]
  },
  {
   "cell_type": "code",
   "execution_count": 307,
   "id": "56626877",
   "metadata": {},
   "outputs": [
    {
     "name": "stdout",
     "output_type": "stream",
     "text": [
      "      user_id  distance  duration        date\n",
      "42          4      4650        36  2021-08-14\n",
      "143        15      4188        39  2021-01-13\n",
      "499        55      4152        37  2021-06-30\n",
      "524        58      4764        36  2021-02-17\n",
      "854        91      4445        36  2021-11-05\n",
      "1111      119      4061        36  2021-05-15\n",
      "1455      158      3968        36  2021-05-09\n",
      "1621      174      3795        36  2021-12-23\n",
      "1694      183      4474        37  2021-01-02\n",
      "1894      205      4219        37  2021-08-26\n",
      "1998      216      4832        39  2021-05-11\n",
      "2163      231      4457        36  2021-06-14\n",
      "2232      239      4263        36  2021-02-17\n",
      "2264      242      4562        36  2021-07-26\n",
      "2279      243      3916        37  2021-12-30\n",
      "2530      268      4699        36  2021-06-28\n",
      "2623      278      4755        40  2021-12-02\n",
      "2841      304      4787        36  2021-02-26\n",
      "3729      401      4003        38  2021-09-21\n",
      "3941      424      4139        36  2021-11-14\n",
      "4215      454      5138        41  2021-12-27\n",
      "4239      457      4805        36  2021-11-28\n",
      "4653      501      4104        37  2021-05-24\n",
      "4709      507      4646        40  2021-01-15\n",
      "5013      540      4447        37  2021-02-15\n",
      "5312      570      4367        36  2021-12-07\n",
      "6348      681      4135        37  2021-05-01\n",
      "6453      694      4211        39  2021-03-11\n"
     ]
    }
   ],
   "source": [
    "#Проверка гипотезы:\n",
    "print(rides_data.query('duration > 35'))"
   ]
  },
  {
   "cell_type": "markdown",
   "id": "76aad28e",
   "metadata": {},
   "source": [
    "Вполне похоже на правду, тут корректировать нечего."
   ]
  },
  {
   "cell_type": "code",
   "execution_count": 308,
   "id": "6d18770d",
   "metadata": {},
   "outputs": [
    {
     "name": "stdout",
     "output_type": "stream",
     "text": [
      "       user_id  distance  duration        date\n",
      "6860       724      6226         1  2021-12-16\n",
      "7043       737      6387        26  2021-07-31\n",
      "7052       738      6060        22  2021-05-02\n",
      "7185       747      6011        19  2021-03-10\n",
      "7612       780      6113         1  2021-11-23\n",
      "7617       781      6106        20  2021-01-11\n",
      "7632       781      6087        27  2021-12-21\n",
      "7635       782      6396        29  2021-02-22\n",
      "7830       795      6263         1  2021-09-09\n",
      "7913       803      6428        17  2021-01-05\n",
      "8527       850      6437        35  2021-12-27\n",
      "8650       860      6004        27  2021-09-07\n",
      "9027       888      6013        22  2021-11-11\n",
      "9288       907      6252        20  2021-07-26\n",
      "9451       919      6039        31  2021-05-04\n",
      "9622       931      6003         1  2021-11-10\n",
      "9756       941      6252        27  2021-11-06\n",
      "9794       944      6144        21  2021-06-29\n",
      "10144      967      6022        21  2021-11-03\n",
      "10341      981      6672        28  2021-12-06\n",
      "10432      987      6077        20  2021-09-28\n",
      "10563      997      6240        31  2021-05-16\n",
      "10663     1004      6384        28  2021-07-13\n",
      "10915     1022      6536        31  2021-10-14\n",
      "11189     1043      6457        27  2021-02-22\n",
      "11319     1052      6504        27  2021-07-01\n",
      "11385     1057      6602         1  2021-02-07\n",
      "11852     1090      6037        21  2021-09-28\n",
      "12086     1108      6539        30  2021-09-27\n",
      "12814     1161      6099        30  2021-12-29\n",
      "13548     1213      6021        33  2021-11-20\n",
      "13701     1224      6415         1  2021-07-15\n",
      "13751     1228      6002        29  2021-01-15\n",
      "14178     1257      6121         1  2021-03-16\n",
      "14310     1265      6089        15  2021-09-22\n",
      "14320     1266      6071        26  2021-06-17\n",
      "14574     1285      6317         1  2021-09-25\n",
      "15580     1361      6909        24  2021-03-27\n",
      "16278     1409      6307        25  2021-02-19\n",
      "16309     1411      7212         1  2021-04-15\n",
      "16484     1422      7067        24  2021-02-12\n",
      "16679     1434      6259        29  2021-05-24\n",
      "17171     1471      6761        33  2021-08-03\n",
      "17242     1477      6725         1  2021-01-12\n",
      "17773     1514      6040        27  2021-09-28\n",
      "17822     1517      6132        25  2021-12-17\n"
     ]
    }
   ],
   "source": [
    "#Проверка гипотезы:\n",
    "print(rides_data.query('distance > 6000'))"
   ]
  },
  {
   "cell_type": "markdown",
   "id": "2843d21e",
   "metadata": {},
   "source": [
    "А вот здесь уже возникают вопросы. Да, кто-то действительно может проехать 7 км за 23 минут, повезло со светофорами, однако 6+ км за 30 секунд уже фантастика. Выведем все строки с этим странным значением:"
   ]
  },
  {
   "cell_type": "code",
   "execution_count": 309,
   "id": "82a22150",
   "metadata": {},
   "outputs": [
    {
     "name": "stdout",
     "output_type": "stream",
     "text": [
      "Empty DataFrame\n",
      "Columns: [user_id, distance, duration, date]\n",
      "Index: []\n"
     ]
    }
   ],
   "source": [
    "#Просмотр сомнительных данных:\n",
    "print(rides_data.query('duration == 0.5'))"
   ]
  },
  {
   "cell_type": "markdown",
   "id": "63daa85c",
   "metadata": {},
   "source": [
    "Аж 95 строчек с проблемными 30 секундами. Никакой связи между ними нет (кроме того, что с таким столкнулись исключительно пользователи второй половины списка). Возможно, это результат какой-то акции, например, \"первая поездка почти даром\". Проверим это предположение: выведем все поездки пользователя с id 701:"
   ]
  },
  {
   "cell_type": "code",
   "execution_count": 310,
   "id": "4106f8b6",
   "metadata": {},
   "outputs": [
    {
     "name": "stdout",
     "output_type": "stream",
     "text": [
      "      user_id  distance  duration        date\n",
      "6518      701      2677        18  2021-01-23\n",
      "6519      701      2744        15  2021-02-13\n",
      "6520      701      2894        12  2021-02-20\n",
      "6521      701      2803        17  2021-03-12\n",
      "6522      701      3510        14  2021-04-17\n",
      "6523      701      2466        15  2021-05-31\n",
      "6524      701       732         7  2021-06-02\n",
      "6525      701      3904        19  2021-06-20\n",
      "6526      701      3442        19  2021-07-04\n",
      "6527      701      1134         7  2021-07-17\n",
      "6528      701      3989        21  2021-07-28\n",
      "6529      701      4408        19  2021-07-28\n",
      "6530      701      3433        18  2021-08-31\n",
      "6531      701      4197         1  2021-08-31\n",
      "6532      701      4520        16  2021-09-09\n",
      "6533      701      4140        17  2021-09-25\n",
      "6534      701      4370        14  2021-10-22\n",
      "6535      701      4026        30  2021-10-27\n",
      "6536      701      2421        10  2021-12-10\n",
      "6537      701       353        13  2021-12-15\n"
     ]
    }
   ],
   "source": [
    "#Проверка гипотезы:\n",
    "print(rides_data.query('user_id == 701'))"
   ]
  },
  {
   "cell_type": "markdown",
   "id": "a2cb8ab2",
   "metadata": {},
   "source": [
    "Предположение не подтвердилось, значит, это мог быть просто какой-то купон. В любом случае за разъяснениями нужно обратиться к составителям таблицы, гадать бессмысленно. 95 строчек составляют меньше 1% от общего списка, однако эти данные способны внести смуту в ходе исследования, поэтому удалим их:"
   ]
  },
  {
   "cell_type": "code",
   "execution_count": 311,
   "id": "73ad0633",
   "metadata": {},
   "outputs": [
    {
     "name": "stdout",
     "output_type": "stream",
     "text": [
      "<class 'pandas.core.frame.DataFrame'>\n",
      "Int64Index: 17775 entries, 0 to 18067\n",
      "Data columns (total 4 columns):\n",
      " #   Column    Non-Null Count  Dtype \n",
      "---  ------    --------------  ----- \n",
      " 0   user_id   17775 non-null  int64 \n",
      " 1   distance  17775 non-null  int64 \n",
      " 2   duration  17775 non-null  int64 \n",
      " 3   date      17775 non-null  object\n",
      "dtypes: int64(3), object(1)\n",
      "memory usage: 694.3+ KB\n"
     ]
    }
   ],
   "source": [
    "#Удаление нефизичных данных:\n",
    "rides_data = rides_data[rides_data['duration'] != 0.5]\n",
    "rides_data.info()"
   ]
  },
  {
   "cell_type": "markdown",
   "id": "cc0d700e",
   "metadata": {},
   "source": [
    "Построим диаграммы размаха для обновлённых данных:"
   ]
  },
  {
   "cell_type": "code",
   "execution_count": null,
   "id": "e9972b5d",
   "metadata": {},
   "outputs": [],
   "source": [
    "#Диаграмма размаха по обновлённым расстояниям:\n",
    "rides_data.boxplot(column='distance')\n",
    "plt.ylim = (0, 5000)\n",
    "plt.show()\n",
    "\n",
    "rides_data['distance'].describe()"
   ]
  },
  {
   "cell_type": "markdown",
   "id": "5a52fc47",
   "metadata": {},
   "source": [
    "Медиана и среднее незначительно повысились. Это несильно скажется на результатах анализа."
   ]
  },
  {
   "cell_type": "code",
   "execution_count": 313,
   "id": "20fca195",
   "metadata": {},
   "outputs": [
    {
     "data": {
      "image/png": "[encoded data removed]",
      "text/plain": [
       "<Figure size 432x288 with 1 Axes>"
      ]
     },
     "metadata": {
      "needs_background": "light"
     },
     "output_type": "display_data"
    },
    {
     "data": {
      "text/plain": [
       "count    17775.000000\n",
       "mean        18.460985\n",
       "std          6.000697\n",
       "min          1.000000\n",
       "25%         14.000000\n",
       "50%         18.000000\n",
       "75%         22.000000\n",
       "max         41.000000\n",
       "Name: duration, dtype: float64"
      ]
     },
     "execution_count": 313,
     "metadata": {},
     "output_type": "execute_result"
    }
   ],
   "source": [
    "#Диаграмма размаха по обновлённой продолжительности поездок:\n",
    "rides_data.boxplot(column='duration')\n",
    "plt.show()\n",
    "\n",
    "rides_data['duration'].describe()"
   ]
  },
  {
   "cell_type": "markdown",
   "id": "4aa066c9",
   "metadata": {},
   "source": [
    "Небольшие изменения медианы и среднего, ничего критичного."
   ]
  },
  {
   "cell_type": "code",
   "execution_count": 314,
   "id": "5dc27c53",
   "metadata": {},
   "outputs": [
    {
     "name": "stdout",
     "output_type": "stream",
     "text": [
      "98.4%\n"
     ]
    }
   ],
   "source": [
    "#Выведем, сколько же строк от общего числа было удалено в ходе предобработки. Напомним, изначально их было 18068:\n",
    "print(\"{:.1%}\".format(rides_data['duration'].count()/18068))"
   ]
  },
  {
   "cell_type": "markdown",
   "id": "7f978630",
   "metadata": {},
   "source": [
    "Суммарно менее 2%, приемлемо."
   ]
  },
  {
   "cell_type": "markdown",
   "id": "128ebc75",
   "metadata": {},
   "source": [
    "Изменим тип данных в столбце \"date\":"
   ]
  },
  {
   "cell_type": "code",
   "execution_count": 315,
   "id": "709c29e4",
   "metadata": {
    "scrolled": true
   },
   "outputs": [
    {
     "name": "stdout",
     "output_type": "stream",
     "text": [
      "<class 'pandas.core.frame.DataFrame'>\n",
      "Int64Index: 17775 entries, 0 to 18067\n",
      "Data columns (total 4 columns):\n",
      " #   Column    Non-Null Count  Dtype         \n",
      "---  ------    --------------  -----         \n",
      " 0   user_id   17775 non-null  int64         \n",
      " 1   distance  17775 non-null  int64         \n",
      " 2   duration  17775 non-null  int64         \n",
      " 3   date      17775 non-null  datetime64[ns]\n",
      "dtypes: datetime64[ns](1), int64(3)\n",
      "memory usage: 694.3 KB\n"
     ]
    }
   ],
   "source": [
    "#Меняем тип данных столбца \"date\":\n",
    "rides_data['date'] = pd.to_datetime(rides_data['date'], format='%Y.%m.%d')\n",
    "rides_data.info()"
   ]
  },
  {
   "cell_type": "markdown",
   "id": "1fa9b4e8",
   "metadata": {},
   "source": [
    "Создадим новый столбец с номерами месяцев:"
   ]
  },
  {
   "cell_type": "code",
   "execution_count": 316,
   "id": "8f03402a",
   "metadata": {
    "scrolled": true
   },
   "outputs": [
    {
     "name": "stdout",
     "output_type": "stream",
     "text": [
      "0    1\n",
      "1    1\n",
      "2    4\n",
      "3    8\n",
      "4    8\n",
      "Name: month, dtype: int64\n"
     ]
    }
   ],
   "source": [
    "#Новый столбец с номерами месяцев поездки:\n",
    "rides_data['month'] = rides_data['date'].dt.month\n",
    "print(rides_data['month'].head())"
   ]
  },
  {
   "cell_type": "markdown",
   "id": "d144a6e4",
   "metadata": {},
   "source": [
    "Убедимся в том, что данные присутствуют только за 1 год и месяца склеились удачно:"
   ]
  },
  {
   "cell_type": "code",
   "execution_count": 317,
   "id": "34db7c3c",
   "metadata": {},
   "outputs": [
    {
     "data": {
      "image/png": "[encoded data removed]",
      "text/plain": [
       "<Figure size 1440x1080 with 1 Axes>"
      ]
     },
     "metadata": {
      "needs_background": "light"
     },
     "output_type": "display_data"
    }
   ],
   "source": [
    "rides_data['date'].hist(bins=12, figsize=(20, 15), edgecolor=(0, 0, 0))\n",
    "plt.show()"
   ]
  },
  {
   "cell_type": "markdown",
   "id": "03b24a9d",
   "metadata": {},
   "source": [
    "Действительно, данные представлены только за 2021 год."
   ]
  },
  {
   "cell_type": "markdown",
   "id": "e1995374",
   "metadata": {},
   "source": [
    "#### Вывод:\n",
    "В ходе предобработки данных была проделана следующая работа:\n",
    "  - были выявлены и удалены явные дубликаты в users_data;\n",
    "  - была произведена проверка на неявные дубликаты;\n",
    "  - обнаружены и удалены строки с нефизичными значениями (большие расстояния за 30 секунд, несколько метров за 10+ минут);\n",
    "  - произведено округление значений в столбцах \"distance\" и \"duration\" из rides_data;\n",
    "  - изменены типы данных в столбцах: \"date\" датафрейма rides_data, \"distance\" и \"duration\" из rides_data;\n",
    "  - добавлен столбец с номером месяца.\n",
    "  \n",
    "Теперь данные готовы к анализу."
   ]
  },
  {
   "cell_type": "markdown",
   "id": "212593c7",
   "metadata": {},
   "source": [
    "### Исследовательский анализ данных"
   ]
  },
  {
   "cell_type": "markdown",
   "id": "95c16e6d",
   "metadata": {},
   "source": [
    "Необходимо описать и визуализировать общую информацию по таблицам. Будем выполнять по пунктам."
   ]
  },
  {
   "cell_type": "markdown",
   "id": "4584a7a1",
   "metadata": {},
   "source": [
    "#### Частота встречаемости городов"
   ]
  },
  {
   "cell_type": "markdown",
   "id": "00dd9dce",
   "metadata": {},
   "source": [
    "Для анализа потребуется таблица users_data. Нарисуем гистограмму и опишем её:"
   ]
  },
  {
   "cell_type": "code",
   "execution_count": 320,
   "id": "4383079d",
   "metadata": {},
   "outputs": [],
   "source": [
    "#Создадим сводную таблицу по городам и количеству клиентов в них:\n",
    "city_pivot_table = users_data.pivot_table(index='city', values='user_id', aggfunc='count')\n",
    "city_pivot_table.columns = ['count']\n",
    "city_pivot_table = city_pivot_table.sort_values('count', ascending=True).head(8)"
   ]
  },
  {
   "cell_type": "code",
   "execution_count": 321,
   "id": "e3a4274c",
   "metadata": {},
   "outputs": [
    {
     "data": {
      "image/png": "[encoded data removed]",
      "text/plain": [
       "<Figure size 1440x1080 with 1 Axes>"
      ]
     },
     "metadata": {
      "needs_background": "light"
     },
     "output_type": "display_data"
    }
   ],
   "source": [
    "#Гистограмма по городам:\n",
    "city_pivot_table.plot(y='count', kind = 'bar', grid = True, figsize=(20, 15))\n",
    "plt.title('Зависимость количества пользователей от города')\n",
    "plt.ylabel('Количество пользователей')\n",
    "plt.xlabel('Название города')\n",
    "plt.show()"
   ]
  },
  {
   "cell_type": "markdown",
   "id": "975507b4",
   "metadata": {},
   "source": [
    "Вот так сюрприз, в Москве оказалось меньше всего пользователей сервисом GoFast. Сразу наводит на мысль о нерепрезентативности выборки, однако считаем, что она верна. Значит, в Москве у сервиса больше всего конкурентов, либо же люди чаще пользуются общественным и личным транспортом. Больше всего пользователей из южной части страны (Пятигорск, Краснодар, Ростов-на-Дону). Так же отмечается Екатеринбург, там люди охотно пользуются современными сервисами."
   ]
  },
  {
   "cell_type": "markdown",
   "id": "e20b191d",
   "metadata": {},
   "source": [
    "#### Соотношение пользователей с подпиской и без"
   ]
  },
  {
   "cell_type": "markdown",
   "id": "2c7ada7c",
   "metadata": {},
   "source": [
    "Потребуется таблица users_data. Построим гистограмму по столбцу \"subscription_type\":"
   ]
  },
  {
   "cell_type": "code",
   "execution_count": 367,
   "id": "cf6bcf26",
   "metadata": {},
   "outputs": [
    {
     "name": "stdout",
     "output_type": "stream",
     "text": [
      "                   count   percent\n",
      "subscription_type                 \n",
      "ultra                699  0.455671\n",
      "free                 835  0.544329\n"
     ]
    }
   ],
   "source": [
    "#Создадим сводную таблицу по типам подписки и количеству клиентов:\n",
    "sub_pivot_table = users_data.pivot_table(index='subscription_type', values='user_id', aggfunc='count')\n",
    "sub_pivot_table.columns = ['count']\n",
    "sub_pivot_table = sub_pivot_table.sort_values('count', ascending=True)\n",
    "sub_pivot_table['percent'] = sub_pivot_table['count'] / users_data['user_id'].count()\n",
    "print(sub_pivot_table)"
   ]
  },
  {
   "cell_type": "code",
   "execution_count": 390,
   "id": "a628a090",
   "metadata": {},
   "outputs": [
    {
     "data": {
      "image/png": "[encoded data removed]",
      "text/plain": [
       "<Figure size 1440x720 with 1 Axes>"
      ]
     },
     "metadata": {
      "needs_background": "light"
     },
     "output_type": "display_data"
    }
   ],
   "source": [
    "#Гистограмма по типу подписки:\n",
    "users_data['subscription_type'].hist(bins=3, grid=True, figsize=(20, 10))\n",
    "plt.title('Зависимость количества пользователей от типа подписки', fontsize=30)\n",
    "plt.ylabel('Количество пользователей', fontsize=25)\n",
    "plt.xlabel('Тип подписки', fontsize=25)\n",
    "plt.text(0.13, 350, \"46%\", fontsize=40, color='white')\n",
    "plt.text(0.8, 420, \"54%\", fontsize=40, color='white')\n",
    "plt.show()"
   ]
  },
  {
   "cell_type": "markdown",
   "id": "46c5192b",
   "metadata": {},
   "source": [
    "Пользователей с подпиской \"Ultra\" оказалось ровно 700 человек, с базовой около 830. Достаточно маленькая разница (8 %), говорит о том, что люди не против приобретения подписки, видимо, часто пользуются сервисом."
   ]
  },
  {
   "cell_type": "markdown",
   "id": "c4b07813",
   "metadata": {},
   "source": [
    "#### Возраст пользователей"
   ]
  },
  {
   "cell_type": "markdown",
   "id": "631d5057",
   "metadata": {},
   "source": [
    "Потребуется таблица users_data. Построим гистограмму по столбцу \"age\":"
   ]
  },
  {
   "cell_type": "code",
   "execution_count": 322,
   "id": "064fd1a2",
   "metadata": {},
   "outputs": [
    {
     "data": {
      "image/png": "[encoded data removed]",
      "text/plain": [
       "<Figure size 1440x1080 with 1 Axes>"
      ]
     },
     "metadata": {
      "needs_background": "light"
     },
     "output_type": "display_data"
    },
    {
     "data": {
      "text/plain": [
       "count    1534.000000\n",
       "mean       24.903520\n",
       "std         4.572367\n",
       "min        12.000000\n",
       "25%        22.000000\n",
       "50%        25.000000\n",
       "75%        28.000000\n",
       "max        43.000000\n",
       "Name: age, dtype: float64"
      ]
     },
     "execution_count": 322,
     "metadata": {},
     "output_type": "execute_result"
    }
   ],
   "source": [
    "#Гистограмма по возрасту пользователей:\n",
    "users_data['age'].hist(bins=10, figsize=(20,15), edgecolor=(0, 0, 0))\n",
    "plt.title('Зависимость количества пользователей от их возраста')\n",
    "plt.ylabel('Количество пользователей')\n",
    "plt.xlabel('Возраст')\n",
    "plt.show()\n",
    "\n",
    "users_data['age'].describe()"
   ]
  },
  {
   "cell_type": "markdown",
   "id": "ec93dbb1",
   "metadata": {},
   "source": [
    "Визуально можем оценить график как нормальное распределение, у которого среднее и медиана около 25 лет. Видим, что больше всего клиентов в сегменте молодых (21 - 27 лет), однако есть люди и старше, например, за 35. Посмортим, сколько их:"
   ]
  },
  {
   "cell_type": "code",
   "execution_count": 196,
   "id": "e3faaf86",
   "metadata": {},
   "outputs": [
    {
     "data": {
      "text/plain": [
       "28"
      ]
     },
     "execution_count": 196,
     "metadata": {},
     "output_type": "execute_result"
    }
   ],
   "source": [
    "#Оценка данных:\n",
    "users_data.query('age >= 35')['age'].count()"
   ]
  },
  {
   "cell_type": "markdown",
   "id": "59bdf865",
   "metadata": {},
   "source": [
    "Сервису есть, куда расти."
   ]
  },
  {
   "cell_type": "markdown",
   "id": "60a47f6b",
   "metadata": {},
   "source": [
    "#### Расстояние, которое пользователь преодолел за одну поездку"
   ]
  },
  {
   "cell_type": "markdown",
   "id": "29c82c2b",
   "metadata": {},
   "source": [
    "Потребуется таблица rides_data. Построим гистограмму по столбцу \"distance\":"
   ]
  },
  {
   "cell_type": "code",
   "execution_count": 323,
   "id": "d4c84c9d",
   "metadata": {},
   "outputs": [
    {
     "data": {
      "image/png": "[encoded data removed]",
      "text/plain": [
       "<Figure size 1440x1080 with 1 Axes>"
      ]
     },
     "metadata": {
      "needs_background": "light"
     },
     "output_type": "display_data"
    },
    {
     "data": {
      "text/plain": [
       "count    17775.000000\n",
       "mean      3119.018115\n",
       "std       1061.372113\n",
       "min        301.000000\n",
       "25%       2578.000000\n",
       "50%       3150.000000\n",
       "75%       3794.500000\n",
       "max       7212.000000\n",
       "Name: distance, dtype: float64"
      ]
     },
     "execution_count": 323,
     "metadata": {},
     "output_type": "execute_result"
    }
   ],
   "source": [
    "#Гистограмма по дистанциям поездок:\n",
    "rides_data['distance'].hist(bins=20, figsize=(20,15), edgecolor=(0, 0, 0))\n",
    "plt.title('Зависимость количества пользователей от их поездок')\n",
    "plt.ylabel('Количество пользователей')\n",
    "plt.xlabel('Дистанция поездки')\n",
    "plt.show()\n",
    "\n",
    "rides_data['distance'].describe()"
   ]
  },
  {
   "cell_type": "markdown",
   "id": "19969971",
   "metadata": {},
   "source": [
    "Видим, что чаще всего самокат арендуется для преодоления средних расстояний (пик приходится на 3 км). На расстояния больше 5 км люди предпочитают использовать другие средства перемещения. Также интересно, что самокат достаточно часто используется и для небольших дистанций (менее 1 км)."
   ]
  },
  {
   "cell_type": "markdown",
   "id": "a7c934e2",
   "metadata": {},
   "source": [
    "#### Продолжительность поездок"
   ]
  },
  {
   "cell_type": "markdown",
   "id": "cac88a0f",
   "metadata": {},
   "source": [
    "Потребуется таблица rides_data. Построим гистограмму по столбцу \"duration\":"
   ]
  },
  {
   "cell_type": "code",
   "execution_count": 324,
   "id": "38316a37",
   "metadata": {},
   "outputs": [
    {
     "data": {
      "image/png": "[encoded data removed]",
      "text/plain": [
       "<Figure size 1440x1080 with 1 Axes>"
      ]
     },
     "metadata": {
      "needs_background": "light"
     },
     "output_type": "display_data"
    },
    {
     "data": {
      "text/plain": [
       "count    17775.000000\n",
       "mean        18.460985\n",
       "std          6.000697\n",
       "min          1.000000\n",
       "25%         14.000000\n",
       "50%         18.000000\n",
       "75%         22.000000\n",
       "max         41.000000\n",
       "Name: duration, dtype: float64"
      ]
     },
     "execution_count": 324,
     "metadata": {},
     "output_type": "execute_result"
    }
   ],
   "source": [
    "#Гистограмма по продолжительности поездок:\n",
    "rides_data['duration'].hist(bins=20, figsize=(20,15), edgecolor=(0, 0, 0))\n",
    "plt.title('Зависимость количества пользователей от продолжительности их поездок')\n",
    "plt.ylabel('Количество пользователей')\n",
    "plt.xlabel('Продолжительность поездок')\n",
    "plt.show()\n",
    "\n",
    "rides_data['duration'].describe()"
   ]
  },
  {
   "cell_type": "markdown",
   "id": "02b9e4eb",
   "metadata": {},
   "source": [
    "Видим нормальное распределение данных. Пик по времени поездок приходится на область 18 минут. Особо длительных поездок (35+ минут) немного, куда больше особо коротких (менее 5 минут)."
   ]
  },
  {
   "cell_type": "markdown",
   "id": "95f6bea9",
   "metadata": {},
   "source": [
    "#### Вывод:\n",
    "Проведён исследовательский анализ данных. Для описания 5 интересующих нас зависимостей оказалось достаточно построения гистограмм. Выделим общие положения по каждому пунтку:\n",
    "  - В Москве оказалось меньше всего пользователей сервисом GoFast; выдвигаем предположение, что в Москве у сервиса больше всего конкурентов, либо же люди чаще пользуются общественным и личным транспортом. Больше всего пользователей из южной части страны (Пятигорск, Краснодар, Ростов-на-Дону). Так же отмечается Екатеринбург, там люди охотно пользуются современными сервисами;\n",
    "  - Пользователей с подпиской \"Ultra\" оказалось ровно 700 человек, с базовой около 830. Достаточно маленькая разница, говорит о том, что люди не против приобрести подписку, видимо, часто пользуются сервисом;\n",
    "  - Возраст пользователей из выборки имеет средне значение около 25 лет. Видим, что больше всего клиентов в сегменте молодых (21 - 27 лет), однако есть люди и старше, например, за 35;\n",
    "  - Чаще всего самокат арендуется для преодоления средних расстояний (около 3 км). На расстояния больше 5 км люди предпочитают использовать другие средства перемещения. Также интересно, что самокат достаточно часто используется и для небольших дистанций (менее 1 км);\n",
    "  - Пик по времени поездок приходится на область 18 минут. Особо длительных поездок (35+ минут) немного, куда больше особо коротких (менее 5 минут)."
   ]
  },
  {
   "cell_type": "markdown",
   "id": "4ef51331",
   "metadata": {},
   "source": [
    "### Объединение данных"
   ]
  },
  {
   "cell_type": "markdown",
   "id": "a5050748",
   "metadata": {},
   "source": [
    "Объединим 3 изначальных датафрейма в один:"
   ]
  },
  {
   "cell_type": "code",
   "execution_count": 326,
   "id": "6bf288b5",
   "metadata": {
    "scrolled": true
   },
   "outputs": [
    {
     "name": "stdout",
     "output_type": "stream",
     "text": [
      "<class 'pandas.core.frame.DataFrame'>\n",
      "Int64Index: 17775 entries, 0 to 17774\n",
      "Data columns (total 12 columns):\n",
      " #   Column             Non-Null Count  Dtype         \n",
      "---  ------             --------------  -----         \n",
      " 0   user_id            17775 non-null  int64         \n",
      " 1   name               17775 non-null  object        \n",
      " 2   age                17775 non-null  int64         \n",
      " 3   city               17775 non-null  object        \n",
      " 4   subscription_type  17775 non-null  object        \n",
      " 5   distance           17775 non-null  int64         \n",
      " 6   duration           17775 non-null  int64         \n",
      " 7   date               17775 non-null  datetime64[ns]\n",
      " 8   month              17775 non-null  int64         \n",
      " 9   minute_price       17775 non-null  int64         \n",
      " 10  start_ride_price   17775 non-null  int64         \n",
      " 11  subscription_fee   17775 non-null  int64         \n",
      "dtypes: datetime64[ns](1), int64(8), object(3)\n",
      "memory usage: 1.8+ MB\n",
      "   user_id  name  age    city subscription_type  distance  duration  \\\n",
      "0        1  Кира   22  Тюмень             ultra      4410        26   \n",
      "1        1  Кира   22  Тюмень             ultra      2618        16   \n",
      "2        1  Кира   22  Тюмень             ultra       755         7   \n",
      "3        1  Кира   22  Тюмень             ultra      2695        19   \n",
      "4        1  Кира   22  Тюмень             ultra      4029        27   \n",
      "\n",
      "        date  month  minute_price  start_ride_price  subscription_fee  \n",
      "0 2021-01-01      1             6                 0               199  \n",
      "1 2021-01-18      1             6                 0               199  \n",
      "2 2021-04-20      4             6                 0               199  \n",
      "3 2021-08-11      8             6                 0               199  \n",
      "4 2021-08-28      8             6                 0               199  \n"
     ]
    }
   ],
   "source": [
    "#Объединение в 2 этапа: сначала \"users_data\" и \"rides_data\" по столбцу \"user_id\", потом полученный датафрейм с \"subscription_data\"\n",
    "#по стоблцу \"subscription_type\".\n",
    "unity_data = users_data.merge(rides_data, on='user_id', how='inner').merge(subscriptions_data, on='subscription_type', how='inner')\n",
    "unity_data.info()\n",
    "print(unity_data.head())"
   ]
  },
  {
   "cell_type": "markdown",
   "id": "d11e875e",
   "metadata": {},
   "source": [
    "Посмотрим, не потерялись ли какие-то строки в процессе объединения:"
   ]
  },
  {
   "cell_type": "code",
   "execution_count": 327,
   "id": "83abfd9b",
   "metadata": {},
   "outputs": [
    {
     "name": "stdout",
     "output_type": "stream",
     "text": [
      "1.0\n"
     ]
    }
   ],
   "source": [
    "#Больше всего строк было в таблице rides_data, т.е. в итоговой таблице должно оказаться столько же строк, сколько было в ней:\n",
    "print(rides_data['user_id'].count()/unity_data['user_id'].count())"
   ]
  },
  {
   "cell_type": "markdown",
   "id": "ed569290",
   "metadata": {},
   "source": [
    "Сколько строк было, столько стало."
   ]
  },
  {
   "cell_type": "markdown",
   "id": "40772fcb",
   "metadata": {},
   "source": [
    "Создадим 2 отдельные таблицы, разделив пользователей по виду подписки:"
   ]
  },
  {
   "cell_type": "code",
   "execution_count": 328,
   "id": "9a964579",
   "metadata": {
    "scrolled": true
   },
   "outputs": [
    {
     "name": "stdout",
     "output_type": "stream",
     "text": [
      "   user_id  name  age    city subscription_type  distance  duration  \\\n",
      "0        1  Кира   22  Тюмень             ultra      4410        26   \n",
      "1        1  Кира   22  Тюмень             ultra      2618        16   \n",
      "2        1  Кира   22  Тюмень             ultra       755         7   \n",
      "3        1  Кира   22  Тюмень             ultra      2695        19   \n",
      "4        1  Кира   22  Тюмень             ultra      4029        27   \n",
      "\n",
      "        date  month  minute_price  start_ride_price  subscription_fee  \n",
      "0 2021-01-01      1             6                 0               199  \n",
      "1 2021-01-18      1             6                 0               199  \n",
      "2 2021-04-20      4             6                 0               199  \n",
      "3 2021-08-11      8             6                 0               199  \n",
      "4 2021-08-28      8             6                 0               199  \n",
      "      user_id   name  age  city subscription_type  distance  duration  \\\n",
      "6497      700  Айдар   22  Омск              free      2516        15   \n",
      "6498      700  Айдар   22  Омск              free       847        17   \n",
      "6499      700  Айдар   22  Омск              free      4005        21   \n",
      "6500      700  Айдар   22  Омск              free      1206        10   \n",
      "6501      700  Айдар   22  Омск              free      3048        18   \n",
      "\n",
      "           date  month  minute_price  start_ride_price  subscription_fee  \n",
      "6497 2021-01-02      1             8                50                 0  \n",
      "6498 2021-02-01      2             8                50                 0  \n",
      "6499 2021-02-04      2             8                50                 0  \n",
      "6500 2021-02-10      2             8                50                 0  \n",
      "6501 2021-02-14      2             8                50                 0  \n"
     ]
    }
   ],
   "source": [
    "#Создаём новые датафреймы по типу подписки с помощью группировки:\n",
    "unity_ultra_data = unity_data.query('subscription_type == \"ultra\"')\n",
    "unity_free_data = unity_data.query('subscription_type == \"free\"')\n",
    "print(unity_ultra_data.head())\n",
    "print(unity_free_data.head())"
   ]
  },
  {
   "cell_type": "markdown",
   "id": "313b3587",
   "metadata": {},
   "source": [
    "Посмотрим, как изменяться гистограммы по расстоянию и времени поездок в зависимости от начилия подписки. Сперва для \"ultra\":"
   ]
  },
  {
   "cell_type": "code",
   "execution_count": 354,
   "id": "26c72213",
   "metadata": {},
   "outputs": [
    {
     "data": {
      "image/png": "[encoded data removed]",
      "text/plain": [
       "<Figure size 1440x1080 with 1 Axes>"
      ]
     },
     "metadata": {
      "needs_background": "light"
     },
     "output_type": "display_data"
    },
    {
     "name": "stdout",
     "output_type": "stream",
     "text": [
      "Клиенты с подпиской:\n",
      " count    6497.000000\n",
      "mean     3117.265969\n",
      "std       834.840813\n",
      "min       308.000000\n",
      "25%      2786.000000\n",
      "50%      3149.000000\n",
      "75%      3561.000000\n",
      "max      5700.000000\n",
      "Name: distance, dtype: float64\n",
      "\n",
      "Клиенты без подписки:\n",
      " count    11278.000000\n",
      "mean      3120.027487\n",
      "std       1172.197357\n",
      "min        301.000000\n",
      "25%       2430.000000\n",
      "50%       3151.000000\n",
      "75%       3932.750000\n",
      "max       7212.000000\n",
      "Name: distance, dtype: float64\n"
     ]
    }
   ],
   "source": [
    "#Гистограмма по расстоянию:\n",
    "unity_ultra_data['distance'].hist(bins=20, figsize=(20,15), edgecolor=(0, 0, 0), alpha = 0.9, color='purple')\n",
    "unity_free_data['distance'].hist(bins=20, figsize=(20,15), edgecolor=(0, 0, 0), alpha = 0.5, color='green')\n",
    "plt.title('Зависимость количества пользователей от их поездок')\n",
    "plt.ylabel('Количество пользователей')\n",
    "plt.xlabel('Дистанция поездки')\n",
    "plt.show()\n",
    "\n",
    "print('Клиенты с подпиской:\\n', unity_ultra_data['distance'].describe())\n",
    "print('')\n",
    "print('Клиенты без подписки:\\n', unity_free_data['distance'].describe())"
   ]
  },
  {
   "cell_type": "markdown",
   "id": "629c2f74",
   "metadata": {},
   "source": [
    "У клиентов без подписки поездок на дистанцию менее 1 км заметно больше, пик также смещён на 2,5 км, однако мы всё равно можем выделить основную часть поездок, которые совершаются на расстояние от 2,5 до 3,5 км. Люди без подписок также активно используют самокаты для преодоления больших расстояний (от 5 до 7 км), причём заметно больше подписчиков. Но почему тогда они не покупают подписку? Не так часто катаются? Либо же на рекламе \"ultra\" решили сэкономить, и пользователи не знают о её существовании?"
   ]
  },
  {
   "cell_type": "code",
   "execution_count": 353,
   "id": "da971544",
   "metadata": {},
   "outputs": [
    {
     "data": {
      "image/png": "[encoded data removed]",
      "text/plain": [
       "<Figure size 1440x1080 with 1 Axes>"
      ]
     },
     "metadata": {
      "needs_background": "light"
     },
     "output_type": "display_data"
    },
    {
     "name": "stdout",
     "output_type": "stream",
     "text": [
      "Клиенты с подпиской:\n",
      " count    6497.000000\n",
      "mean       19.042635\n",
      "std         5.573584\n",
      "min         5.000000\n",
      "25%        15.000000\n",
      "50%        19.000000\n",
      "75%        22.000000\n",
      "max        41.000000\n",
      "Name: duration, dtype: float64\n",
      "\n",
      "Клиенты без подписки:\n",
      " count    11278.000000\n",
      "mean        18.125909\n",
      "std          6.209028\n",
      "min          1.000000\n",
      "25%         14.000000\n",
      "50%         18.000000\n",
      "75%         22.000000\n",
      "max         35.000000\n",
      "Name: duration, dtype: float64\n"
     ]
    }
   ],
   "source": [
    "#Гистограмма по длительности поездок:\n",
    "unity_ultra_data['duration'].hist(bins=20, figsize=(20,15), edgecolor=(0, 0, 0), alpha = 0.9, color='orange')\n",
    "unity_free_data['duration'].hist(bins=20, figsize=(20,15), edgecolor=(0, 0, 0), alpha = 0.5, color='blue')\n",
    "plt.title('Зависимость количества пользователей от длительности их поездок')\n",
    "plt.ylabel('Количество пользователей')\n",
    "plt.xlabel('Продолжительность поездки')\n",
    "plt.show()\n",
    "\n",
    "print('Клиенты с подпиской:\\n', unity_ultra_data['duration'].describe())\n",
    "print('')\n",
    "print('Клиенты без подписки:\\n', unity_free_data['duration'].describe())"
   ]
  },
  {
   "cell_type": "markdown",
   "id": "6b33e6a5",
   "metadata": {},
   "source": [
    "А вот гистограмма по длительности поездок практически не изменилась по сравнению с общей. Видимо, это ситуативный показатель, который зависит больше от города и его районов.\n",
    "\n",
    "У клиентов без подписки наблюдается большее количество коротких поездкок (меньше 5 минут); график обрывается на 35 минутах, значит, действительно долгие поездки совершаются только обладателями подписки. Однако в целом поездок на 20+ минут больше, чем у подписчиков \"ultra\"."
   ]
  },
  {
   "cell_type": "markdown",
   "id": "850cedc1",
   "metadata": {},
   "source": [
    "#### Вывод:\n",
    "Исходные датафреймы были объединены в один общий, после чего тот был разбит на 2: произошло разделение клиентов с подпиской \"ultra\" и без. После этого произведены повторные исследования длительности поездок и их расстояний в зависимости от типа подписки. Результаты следующие:\n",
    "\n",
    "  1) Клиенты с подпиской в основном совершают поездки на средние дистанции около 3 км, на более коротких (около 2 км) виден явный спад;\n",
    "  \n",
    "  2) Продолжительность поездок клиентов с подпиской не отличается от общей продолжительности, такое же нормальное распределение, середина приходится на 25 минут;\n",
    "  \n",
    "  3) У пользователей без подписки поездок на дистанцию менее 1 км заметно больше, пик также смещён на 2,5 км, однако мы всё равно можем выделить основную часть поездок, которые совершаются на расстояние от 2,5 до 3,5 км. Люди без подписок также активно используют самокаты для преодоления больших расстояний (от 5 до 7 км). Получается, что у отсутствия у них подписки есть конкретные причины, например, редкое использования самокатов или недостаточная реклама самой подписки;\n",
    "  \n",
    "  4) У пользователей без подписок больше коротких поездок (меньше 5 минут), очень долгие поездки (более 35 минут) они не совершают. Однако в целом поездок на 20+ минут больше, чем у подписчиков \"ultra\"."
   ]
  },
  {
   "cell_type": "markdown",
   "id": "402d620f",
   "metadata": {},
   "source": [
    "### Подсчёт выручки"
   ]
  },
  {
   "cell_type": "markdown",
   "id": "7cffb211",
   "metadata": {},
   "source": [
    "Создадим датафрейм с агрегированными данными о поездках на основе датафрейма \"unity_data\". Найдём суммарное расстояние, количество поездок и суммарное время для каждого пользователя за каждый месяц."
   ]
  },
  {
   "cell_type": "code",
   "execution_count": 205,
   "id": "53049e0a",
   "metadata": {},
   "outputs": [
    {
     "name": "stdout",
     "output_type": "stream",
     "text": [
      "<class 'pandas.core.frame.DataFrame'>\n",
      "MultiIndex: 11241 entries, (1, 1) to (1534, 12)\n",
      "Data columns (total 7 columns):\n",
      " #   Column             Non-Null Count  Dtype \n",
      "---  ------             --------------  ----- \n",
      " 0   total_distance     11241 non-null  int64 \n",
      " 1   total_duration     11241 non-null  int64 \n",
      " 2   minute_price       11241 non-null  int64 \n",
      " 3   trip_count         11241 non-null  int64 \n",
      " 4   start_ride_price   11241 non-null  int64 \n",
      " 5   subscription_fee   11241 non-null  int64 \n",
      " 6   subscription_type  11241 non-null  object\n",
      "dtypes: int64(6), object(1)\n",
      "memory usage: 659.9+ KB\n",
      "               total_distance  total_duration  minute_price  trip_count  \\\n",
      "user_id month                                                             \n",
      "1       1                7028              42             6           2   \n",
      "        4                 755               7             6           1   \n",
      "        8                6724              46             6           2   \n",
      "        10               5811              32             6           2   \n",
      "        11               7005              56             6           3   \n",
      "\n",
      "               start_ride_price  subscription_fee subscription_type  \n",
      "user_id month                                                        \n",
      "1       1                     0               199             ultra  \n",
      "        4                     0               199             ultra  \n",
      "        8                     0               199             ultra  \n",
      "        10                    0               199             ultra  \n",
      "        11                    0               199             ultra  \n"
     ]
    }
   ],
   "source": [
    "#Создадим новый датафрейм с помощью сводных таблиц:\n",
    "agg_data = unity_data.pivot_table(index=['user_id', 'month'], \n",
    "            values=['distance', 'duration', 'name', 'subscription_type', 'minute_price', 'start_ride_price', 'subscription_fee'],\n",
    "            aggfunc={'distance': 'sum', \n",
    "                     'duration': 'sum', \n",
    "                     'name': 'count', \n",
    "                     'subscription_type': 'min',\n",
    "                     'minute_price': 'min',\n",
    "                     'start_ride_price': 'min',\n",
    "                     'subscription_fee': 'min'})\n",
    "agg_data.columns = ['total_distance', \n",
    "                    'total_duration', \n",
    "                    'minute_price',  \n",
    "                    'trip_count', \n",
    "                    'start_ride_price',\n",
    "                    'subscription_fee',\n",
    "                    'subscription_type']\n",
    "agg_data.info()\n",
    "print(agg_data.head())"
   ]
  },
  {
   "cell_type": "markdown",
   "id": "b5f14d69",
   "metadata": {},
   "source": [
    "Добавим столбец с помесячной выручкой, которую принёс каждый пользователь."
   ]
  },
  {
   "cell_type": "code",
   "execution_count": 206,
   "id": "c0fc7f26",
   "metadata": {},
   "outputs": [
    {
     "name": "stdout",
     "output_type": "stream",
     "text": [
      "               total_distance  total_duration  minute_price  trip_count  \\\n",
      "user_id month                                                             \n",
      "1       1                7028              42             6           2   \n",
      "        4                 755               7             6           1   \n",
      "        8                6724              46             6           2   \n",
      "        10               5811              32             6           2   \n",
      "        11               7005              56             6           3   \n",
      "\n",
      "               start_ride_price  subscription_fee subscription_type  \\\n",
      "user_id month                                                         \n",
      "1       1                     0               199             ultra   \n",
      "        4                     0               199             ultra   \n",
      "        8                     0               199             ultra   \n",
      "        10                    0               199             ultra   \n",
      "        11                    0               199             ultra   \n",
      "\n",
      "               rev_per_month  \n",
      "user_id month                 \n",
      "1       1                451  \n",
      "        4                241  \n",
      "        8                475  \n",
      "        10               391  \n",
      "        11               535  \n"
     ]
    }
   ],
   "source": [
    "#Добавим новый столбец:\n",
    "agg_data['rev_per_month'] = (agg_data['minute_price'] * agg_data['total_duration']\n",
    "                            + agg_data['start_ride_price'] * agg_data['trip_count']\n",
    "                            + agg_data['subscription_fee'])\n",
    "print(agg_data.head())"
   ]
  },
  {
   "cell_type": "markdown",
   "id": "25187d76",
   "metadata": {},
   "source": [
    "#### Вывод:\n",
    "Был создан новый датафрейм с сортировкой пользователей по их id с помощью сводных таблиц. \\\n",
    "Также рассчитана и добавлена информация о месячной выручке с каждого пользователя."
   ]
  },
  {
   "cell_type": "markdown",
   "id": "41545ac0",
   "metadata": {},
   "source": [
    "### Проверка гипотез"
   ]
  },
  {
   "cell_type": "markdown",
   "id": "8a808990",
   "metadata": {},
   "source": [
    "Для успешного проведения акций необходимо исследовать 4 гипотезы. Будем делать это поочерёдно с помощью ttest. Уровень значимости везде возьмём 5%."
   ]
  },
  {
   "cell_type": "markdown",
   "id": "fbe61422",
   "metadata": {},
   "source": [
    "#### Тратят ли пользователи с подпиской больше времени на поездки? "
   ]
  },
  {
   "cell_type": "markdown",
   "id": "6645268d",
   "metadata": {},
   "source": [
    "Выдвигаем 2 гипотезы: \n",
    " 1) H0 - время поездок у пользователей с подпиской и без одинаковое;\\\n",
    " 2) H1 - пользователи с подпиской тратят больше времени на поездки."
   ]
  },
  {
   "cell_type": "code",
   "execution_count": 267,
   "id": "23ea867b",
   "metadata": {},
   "outputs": [
    {
     "name": "stdout",
     "output_type": "stream",
     "text": [
      "2.5975963682172755e-24\n",
      "Отвергаем нулевую гипотезу\n"
     ]
    }
   ],
   "source": [
    "#Сравниваем 2 разные таблицы, поэтому используем \"_ind\" с неравным количеством столбцов:\n",
    "results = st.ttest_ind(unity_ultra_data['duration'], unity_free_data['duration'], equal_var=False, alternative='greater')\n",
    "print(results.pvalue)\n",
    "if results.pvalue < .05:\n",
    "    print('Отвергаем нулевую гипотезу')\n",
    "else:\n",
    "    print('Не получилось отвергнуть нулевую гипотезу')"
   ]
  },
  {
   "cell_type": "markdown",
   "id": "9c2c5690",
   "metadata": {},
   "source": [
    "##### Промежуточный вывод:\n",
    "Нулевая гипотеза отвергнута, получается, подписчики \"ultra\" могут тратить больше времени на поездки. Математически подтвердили выводы по графикам из основной части исследования."
   ]
  },
  {
   "cell_type": "markdown",
   "id": "f5c40608",
   "metadata": {},
   "source": [
    "#### Среднее расстояние, которое проезжают пользователи с подпиской за одну поездку, не превышает 3130 метров?"
   ]
  },
  {
   "cell_type": "markdown",
   "id": "7cd7e3cf",
   "metadata": {},
   "source": [
    "Выдвигаем 2 гипотезы: \n",
    " 1) H0 - среднее расстояние у пользователей с подпиской равно 3130 метров;\\\n",
    " 2) H1 - среднее расстояние у пользователей с подпиской больше 3130 метров."
   ]
  },
  {
   "cell_type": "code",
   "execution_count": 208,
   "id": "f8b524d9",
   "metadata": {},
   "outputs": [
    {
     "name": "stdout",
     "output_type": "stream",
     "text": [
      "0.8905303035425329\n",
      "Не получилось отвергнуть нулевую гипотезу\n"
     ]
    }
   ],
   "source": [
    "#Исследуем 1 таблицу, поэтому используем \"_1samp\":\n",
    "results = st.ttest_1samp(unity_ultra_data['distance'], 3130, alternative='greater')\n",
    "print(results.pvalue)\n",
    "if results.pvalue < .05:\n",
    "    print('Отвергаем нулевую гипотезу')\n",
    "else:\n",
    "    print('Не получилось отвергнуть нулевую гипотезу')"
   ]
  },
  {
   "cell_type": "markdown",
   "id": "80b141c4",
   "metadata": {},
   "source": [
    "##### Промежуточный вывод:\n",
    "Нельзя утверждать, что среднее расстояние не равно 3130 метров. Графики из основной части исследования подтверждают этот вывод."
   ]
  },
  {
   "cell_type": "markdown",
   "id": "cc08e6b6",
   "metadata": {},
   "source": [
    "#### Помесячная выручка от пользователей с подпиской по месяцам выше, чем выручка от пользователей без подписки."
   ]
  },
  {
   "cell_type": "markdown",
   "id": "cba66512",
   "metadata": {},
   "source": [
    "Выдвигаем 2 гипотезы: \n",
    " 1) H0 - помесячная выручка с пользователей с подпиской равна выручке с пользователей без подписки;\\\n",
    " 2) H1 - помесячная выручка с пользователей с подпиской больше выручки с пользователей без подписки."
   ]
  },
  {
   "cell_type": "code",
   "execution_count": 209,
   "id": "1b9f8cef",
   "metadata": {},
   "outputs": [
    {
     "name": "stdout",
     "output_type": "stream",
     "text": [
      "3.7283831516350566e-42\n",
      "Отвергаем нулевую гипотезу\n"
     ]
    }
   ],
   "source": [
    "#Разделим агрегированную таблицу по типам подписки:\n",
    "agg_data_ultra = agg_data.query('subscription_type == \"ultra\"')\n",
    "agg_data_free = agg_data.query('subscription_type == \"free\"')\n",
    "\n",
    "#Проведём t-тест 2 датафреймов:\n",
    "results = st.ttest_ind(agg_data_ultra['rev_per_month'], agg_data_free['rev_per_month'], equal_var=False, alternative='greater')\n",
    "print(results.pvalue)\n",
    "if results.pvalue < .05:\n",
    "    print('Отвергаем нулевую гипотезу')\n",
    "else:\n",
    "    print('Не получилось отвергнуть нулевую гипотезу')"
   ]
  },
  {
   "cell_type": "markdown",
   "id": "b0e92d77",
   "metadata": {},
   "source": [
    "##### Промежуточный вывод:\n",
    "Нулевая гипотеза однозначно отвергнута, значит, выгода от подписки для сервиса есть."
   ]
  },
  {
   "cell_type": "markdown",
   "id": "29c7c9ab",
   "metadata": {},
   "source": [
    "#### После обновления сервера количество обращений в техподдержку снизилось. Некоторый файл содержит для каждого пользователя данные о количестве обращений до обновления и после него. Какой тест понадобился бы для проверки этой гипотезы?"
   ]
  },
  {
   "cell_type": "markdown",
   "id": "af181d57",
   "metadata": {},
   "source": [
    "Если учитывать, что информация в таблице есть по всем пользователям \"до\" и по всем \"после\", выборки получаются зависимыми, исследуется одна и та же таблица. Для таких случаев применяется ttest_rel(before, after)."
   ]
  },
  {
   "cell_type": "markdown",
   "id": "bd49f77c",
   "metadata": {},
   "source": [
    "#### Вывод:\n",
    "В ходе исследования были обработаны 3 гипотезы. Результаты:\n",
    "  - гипотезу о том, что среднее время поездок клиентов с подпиской и без одинаковое, отвергли;\n",
    "  - гипотезу о том, что среднее расстояние поездок пользователей с подпиской равно 3130 метров, не получилось отвергнуть;\n",
    "  - гипотезу о том, что средняя помесячная выручка с пользователей с подпиской равна выручке с пользователей без подписки, отвергаем.\n",
    "  \n",
    "В первых двух случаях получили математическое подтверждение графиков из основной части исследования. А вот прибыль с подписчиков может быть больше, поэтому есть выгода развивать эту систему."
   ]
  },
  {
   "cell_type": "markdown",
   "id": "61213c5e",
   "metadata": {},
   "source": [
    "### Распределения"
   ]
  },
  {
   "cell_type": "markdown",
   "id": "b101307a",
   "metadata": {},
   "source": [
    "#### Нужно провести акцию с раздачей промокодов на один бесплатный месяц подписки, в рамках которой как минимум 100 существующих клиентов должны продлить эту подписку. \n",
    "То есть по завершении периода действия подписки пользователь может либо отказаться от неё, либо продлить, совершив соответствующий платёж. \n",
    "Эта акция уже проводилась ранее и по итогу выяснилось, что после бесплатного пробного периода подписку продлевают 10 % пользователей. Выясните, какое минимальное количество промокодов нужно разослать, чтобы вероятность не выполнить план была примерно 5 %. Подберите параметры распределения, описывающего эту ситуацию, постройте график распределения и сформулируйте ответ на вопрос о количестве промокодов."
   ]
  },
  {
   "cell_type": "markdown",
   "id": "8efff9e2",
   "metadata": {},
   "source": [
    "Имеем дело с биномиальным распределением (есть шанс на успех и количество попыток), которое для лучшего результата необходимо аппроксимировать нормальным распределением. Так как для точного расчёта нужны точные значения количества попыток и вероятности успеха, придётся писать функцию, чтобы потом методом подбора узнать необходимое количество промокодов."
   ]
  },
  {
   "cell_type": "code",
   "execution_count": 262,
   "id": "750289af",
   "metadata": {},
   "outputs": [
    {
     "data": {
      "image/png": "[encoded data removed]",
      "text/plain": [
       "<Figure size 432x288 with 1 Axes>"
      ]
     },
     "metadata": {
      "needs_background": "light"
     },
     "output_type": "display_data"
    },
    {
     "data": {
      "text/plain": [
       "100.02841955223582"
      ]
     },
     "execution_count": 262,
     "metadata": {},
     "output_type": "execute_result"
    }
   ],
   "source": [
    "#Напишем функцию для построения распределения:\n",
    "def bin_to_norm_for_value(n, p, x):\n",
    "    # Параметры биноминального распределения:\n",
    "    # n - количество экспериментов\n",
    "    # p - вероятность успеха    \n",
    "    # x - вероятность расчитываемого значения\n",
    "    mu = n * p\n",
    "    sigma = (n * p * (1 - p))**(1/2)\n",
    "    \n",
    "    distr = st.norm(mu, sigma)\n",
    "    \n",
    "    #Значение для заданной вероятности\n",
    "    result = distr.ppf(x)\n",
    "    \n",
    "    # Построение графика\n",
    "    a_range = np.arange((mu - 3 * sigma), (mu + 3 * sigma), 1)\n",
    "    \n",
    "    plt.plot(a_range, st.norm.pdf(a_range, mu, sigma), 'o-')\n",
    "    plt.axvline(x=result, color='red')\n",
    "    plt.show()\n",
    "    \n",
    "    return result\n",
    "\n",
    "#Методом подбора найдём минимальное значение количества купонов:\n",
    "bin_to_norm_for_value(1169, 0.1, 0.05)"
   ]
  },
  {
   "cell_type": "markdown",
   "id": "9415cbcb",
   "metadata": {},
   "source": [
    "##### Промежуточный вывод:\n",
    "С помощью аппроксимации биномиального распределения нормальным обнаружили, что при таких исходных данных необходимо разослать 1169 купонов."
   ]
  },
  {
   "cell_type": "markdown",
   "id": "e53cf751",
   "metadata": {},
   "source": [
    "#### Построить примерный график распределения и оценить вероятность того, что уведомление откроют не более 399,5 тыс. пользователей."
   ]
  },
  {
   "cell_type": "markdown",
   "id": "8090e5f1",
   "metadata": {},
   "source": [
    "Воспользуемся модернизированной функцией из 8.1 и методом подбора определим искомую вероятность."
   ]
  },
  {
   "cell_type": "code",
   "execution_count": 263,
   "id": "84fe7faa",
   "metadata": {},
   "outputs": [
    {
     "data": {
      "image/png": "[encoded data removed]",
      "text/plain": [
       "<Figure size 432x288 with 1 Axes>"
      ]
     },
     "metadata": {
      "needs_background": "light"
     },
     "output_type": "display_data"
    },
    {
     "data": {
      "text/plain": [
       "0.15371708296369768"
      ]
     },
     "execution_count": 263,
     "metadata": {},
     "output_type": "execute_result"
    }
   ],
   "source": [
    "#Функция bin_to_norm_for_percent:\n",
    "def bin_to_norm_for_percent(n, p, x):\n",
    "    # Параметры биноминального распределения:\n",
    "    # n - количество экспериментов\n",
    "    # p - вероятность успеха    \n",
    "    # x - пороговое значение\n",
    "    mu = n * p\n",
    "    sigma = (n * p * (1 - p))**(1/2)\n",
    "    \n",
    "    distr = st.norm(mu, sigma)\n",
    "    \n",
    "    #Вероятность для заданной величины\n",
    "    result = distr.cdf(x)\n",
    "    \n",
    "    # Построение графика\n",
    "    a_range = np.arange((mu - 3 * sigma), (mu + 3 * sigma), 1)\n",
    "    \n",
    "    plt.plot(a_range, st.norm.pdf(a_range, mu, sigma), 'o-')\n",
    "    plt.axvline(x=x, color='red')\n",
    "    plt.show()\n",
    "    \n",
    "    return result\n",
    "\n",
    "#Методом подбора найдём минимальное значение количества купонов:\n",
    "bin_to_norm_for_percent(1000000, 0.4, 399500)"
   ]
  },
  {
   "cell_type": "markdown",
   "id": "5e661bde",
   "metadata": {},
   "source": [
    "##### Промежуточный вывод:\n",
    "Итак, если разослать 1 млн. уведомлений при вероятности открытия в 40% 399,5 тыс. пользователей откроют его с вероятностью 15,4%."
   ]
  },
  {
   "cell_type": "markdown",
   "id": "d1f7d6a4",
   "metadata": {},
   "source": [
    "#### Вывод:\n",
    "В ходе решения маркетинговых задач было написано две функции, оценивающие биномиальное распределение с помощью нормального. В первом случае можно найти величину искомого параметра, во втором - вероятность события."
   ]
  },
  {
   "cell_type": "markdown",
   "id": "ec40c5f0",
   "metadata": {},
   "source": [
    "### Общий вывод:\n",
    "На анализ данных были представлены 3 таблицы по сервису аренды самокатов \"GoFast\". Первая таблица \"users_go\" содержала информацию о пользователях, вторая таблица \"rides_go\" - об их поездках, третья таблица \"subscription_go\" - о тарифах. \n",
    "\n",
    "#### Предобработка данных:\n",
    "Качество данных оказалось весьма хорошим, однако предобработка всё равно была проведена.\\\n",
    "В ходе предобработки данных была проделана следующая работа:\n",
    "\n",
    " - были выявлены и удалены явные дубликаты в users_data;\n",
    " - была произведена проверка на неявные дубликаты;\n",
    " - обнаружены и удалены строки с нефизичными значениями (большие расстояния за 30 секунд, несколько метров за 10+ минут);\n",
    " - произведено округление значений в столбцах \"distance\" и \"duration\" из rides_data;\n",
    " - изменены типы данных в столбцах: \"date\" датафрейма rides_data, \"distance\" и \"duration\" из rides_data;\n",
    " - добавлен столбец с номером месяца.\n",
    "\n",
    "#### Исследовательский анализ данных:\n",
    "Проведён исследовательский анализ данных. Для описания 5 интересующих нас зависимостей оказалось достаточно построения гистограмм. Выделим общие положения по каждому пунтку:\n",
    "\n",
    " - В Москве оказалось меньше всего пользователей сервисом GoFast; выдвигаем предположение, что в Москве у сервиса больше всего конкурентов, либо же люди чаще пользуются общественным и личным транспортом. Больше всего пользователей из южной части страны (Пятигорск, Краснодар, Ростов-на-Дону). Так же отмечается Екатеринбург, там люди охотно пользуются современными сервисами;\n",
    " - Пользователей с подпиской \"Ultra\" оказалось ровно 700 человек, с базовой около 830. Достаточно маленькая разница, говорит о том, что люди не против приобрести подписку, видимо, часто пользуются сервисом;\n",
    " - Возраст пользователей из выборки имеет средне значение около 25 лет. Видим, что больше всего клиентов в сегменте молодых (21 - 27 лет), однако есть люди и старше, например, за 35;\n",
    " - Чаще всего самокат арендуется для преодоления средних расстояний (около 3 км). На расстояния больше 5 км люди предпочитают использовать другие средства перемещения. Также интересно, что самокат достаточно часто используется и для небольших дистанций (менее 1 км);\n",
    " - Пик по времени поездок приходится на область 18 минут. Особо длительных поездок (35+ минут) немного, куда больше особо коротких (менее 5 минут).\n",
    "\n",
    "#### Дополнительный анализ данных:\n",
    "Исходные датафреймы были объединены в один общий, после чего тот был разбит на 2: произошло разделение клиентов с подпиской \"ultra\" и без. После этого произведены повторные исследования длительности поездок и их расстояний в зависимости от типа подписки. Результаты следующие:\n",
    "\n",
    "1) Клиенты с подпиской в основном совершают поездки на средние дистанции около 3 км, на более коротких (около 2 км) виден явный спад;\n",
    "\n",
    "2) Продолжительность поездок клиентов с подпиской не отличается от общей продолжительности, такое же нормальное распределение, середина приходится на 25 минут;\n",
    "\n",
    "3) У пользователей без подписки поездок на дистанцию менее 1 км заметно больше, пик также смещён на 2,5 км, однако мы всё равно можем выделить основную часть поездок, которые совершаются на расстояние от 2,5 до 3,5 км. Люди без подписок также активно используют самокаты для преодоления больших расстояний (от 5 до 7 км). Получается, что у отсутствия у них подписки есть конкретные причины, например, редкое использования самокатов или недостаточная реклама самой подписки;\n",
    "\n",
    "4) У пользователей без подписок больше коротких поездок (меньше 5 минут), очень долгие поездки (более 35 минут) они не совершают. Однако в целом поездок на 20+ минут больше, чем у подписчиков \"ultra\".\n",
    "\n",
    "#### Подсчёт выручки:\n",
    "Был создан новый датафрейм с сортировкой пользователей по их id с помощью сводных таблиц.\n",
    "Также рассчитана и добавлена информация о месячной выручке с каждого пользователя.\n",
    " \n",
    "#### Проверка гипотез:\n",
    "В ходе исследования были обработаны 3 гипотезы. Результаты:\n",
    "\n",
    " - гипотезу о том, что среднее время поездок клиентов с подпиской и без одинаковое, отвергли, с подпиской катаются дольше;\n",
    " - гипотезу о том, что среднее расстояние поездок пользователей с подпиской равно 3130 метров, не получилось отвергнуть;\n",
    " - гипотезу о том, что средняя помесячная выручка с пользователей с подпиской равна выручке с пользователей без подписки, отвергаем.\n",
    "В первых двух случаях получили математическое подтверждение графиков из основной части исследования. А вот прибыль с подписчиков может быть больше, поэтому есть выгода развивать эту систему.\n",
    "\n",
    "#### Решение маркетинговых задач:\n",
    "В ходе решения маркетинговых задач было написано две функции, оценивающие биномиальное распределение с помощью нормального. В первом случае можно найти величину искомого параметра, во втором - вероятность события. Результаты:\n",
    " - для того, чтобы 100 пользователей купили подписку после пробного периода, необходимо разослать 1170 купонов;\n",
    " - вероятность того, что 400 тысяч пользователей кликнут на уведомление при рассылке в 1 млн. копий, равна 15,4%.\n",
    "\n",
    "#### Итог:\n",
    "В ходе анализа данных все поставленные задачи были выполнены: построены информативные графики зависимости величин друг от друга и необходимые гистограммы, получены конкретные результаты по каждому пункту. Обработанных данных оказалось достаточно для анализа и решения задач, дополнительных исследований не требуется."
   ]
  }
 ],
 "metadata": {
  "ExecuteTimeLog": [
   {
    "duration": 1397,
    "start_time": "2023-12-07T17:24:34.768Z"
   },
   {
    "duration": 291,
    "start_time": "2023-12-07T17:28:01.849Z"
   },
   {
    "duration": 12,
    "start_time": "2023-12-07T17:29:20.565Z"
   },
   {
    "duration": 14,
    "start_time": "2023-12-07T17:30:52.003Z"
   },
   {
    "duration": 14,
    "start_time": "2023-12-07T17:31:10.221Z"
   },
   {
    "duration": 13,
    "start_time": "2023-12-07T17:32:00.045Z"
   },
   {
    "duration": 69,
    "start_time": "2023-12-07T17:43:30.396Z"
   },
   {
    "duration": 103,
    "start_time": "2023-12-07T17:43:36.582Z"
   },
   {
    "duration": 11,
    "start_time": "2023-12-07T17:44:15.135Z"
   },
   {
    "duration": 59,
    "start_time": "2023-12-07T17:45:04.083Z"
   },
   {
    "duration": 46,
    "start_time": "2023-12-07T19:10:44.231Z"
   },
   {
    "duration": 1246,
    "start_time": "2023-12-07T19:10:50.443Z"
   },
   {
    "duration": 293,
    "start_time": "2023-12-07T19:10:51.691Z"
   },
   {
    "duration": 16,
    "start_time": "2023-12-07T19:10:52.398Z"
   },
   {
    "duration": 13,
    "start_time": "2023-12-07T19:10:52.609Z"
   },
   {
    "duration": 11,
    "start_time": "2023-12-07T19:10:52.833Z"
   },
   {
    "duration": 51,
    "start_time": "2023-12-07T19:10:54.404Z"
   },
   {
    "duration": 5,
    "start_time": "2023-12-07T19:10:56.243Z"
   },
   {
    "duration": 7,
    "start_time": "2023-12-07T19:11:30.705Z"
   },
   {
    "duration": 7,
    "start_time": "2023-12-07T19:11:57.658Z"
   },
   {
    "duration": 5,
    "start_time": "2023-12-07T19:12:31.491Z"
   },
   {
    "duration": 5,
    "start_time": "2023-12-07T19:12:59.994Z"
   },
   {
    "duration": 10,
    "start_time": "2023-12-07T19:13:07.679Z"
   },
   {
    "duration": 10,
    "start_time": "2023-12-07T19:13:22.772Z"
   },
   {
    "duration": 12,
    "start_time": "2023-12-07T19:14:39.384Z"
   },
   {
    "duration": 12,
    "start_time": "2023-12-07T19:16:30.477Z"
   },
   {
    "duration": 3,
    "start_time": "2023-12-07T19:16:43.656Z"
   },
   {
    "duration": 75,
    "start_time": "2023-12-07T19:16:44.416Z"
   },
   {
    "duration": 14,
    "start_time": "2023-12-07T19:16:45.309Z"
   },
   {
    "duration": 14,
    "start_time": "2023-12-07T19:16:45.916Z"
   },
   {
    "duration": 12,
    "start_time": "2023-12-07T19:16:46.458Z"
   },
   {
    "duration": 12,
    "start_time": "2023-12-07T19:16:48.827Z"
   },
   {
    "duration": 9,
    "start_time": "2023-12-07T19:16:52.421Z"
   },
   {
    "duration": 6,
    "start_time": "2023-12-07T19:17:26.829Z"
   },
   {
    "duration": 12,
    "start_time": "2023-12-07T19:17:42.088Z"
   },
   {
    "duration": 4,
    "start_time": "2023-12-07T19:18:59.825Z"
   },
   {
    "duration": 14,
    "start_time": "2023-12-07T19:26:34.899Z"
   },
   {
    "duration": 12,
    "start_time": "2023-12-07T19:26:48.501Z"
   },
   {
    "duration": 60,
    "start_time": "2023-12-07T19:33:23.888Z"
   },
   {
    "duration": 12,
    "start_time": "2023-12-07T19:35:32.489Z"
   },
   {
    "duration": 6,
    "start_time": "2023-12-07T19:35:57.811Z"
   },
   {
    "duration": 8,
    "start_time": "2023-12-07T19:37:39.525Z"
   },
   {
    "duration": 4,
    "start_time": "2023-12-07T19:37:45.997Z"
   },
   {
    "duration": 134,
    "start_time": "2023-12-07T19:41:57.195Z"
   },
   {
    "duration": 109,
    "start_time": "2023-12-07T19:45:34.958Z"
   },
   {
    "duration": 8,
    "start_time": "2023-12-07T19:47:58.563Z"
   },
   {
    "duration": 9,
    "start_time": "2023-12-07T19:48:18.785Z"
   },
   {
    "duration": 9,
    "start_time": "2023-12-07T19:49:52.878Z"
   },
   {
    "duration": 20,
    "start_time": "2023-12-07T19:54:50.825Z"
   },
   {
    "duration": 10,
    "start_time": "2023-12-07T19:54:56.254Z"
   },
   {
    "duration": 8,
    "start_time": "2023-12-07T19:59:58.931Z"
   },
   {
    "duration": 10,
    "start_time": "2023-12-07T20:00:26.953Z"
   },
   {
    "duration": 8,
    "start_time": "2023-12-07T20:02:14.593Z"
   },
   {
    "duration": 12,
    "start_time": "2023-12-07T20:06:45.538Z"
   },
   {
    "duration": 10,
    "start_time": "2023-12-07T20:09:04.528Z"
   },
   {
    "duration": 9,
    "start_time": "2023-12-07T20:09:30.136Z"
   },
   {
    "duration": 10,
    "start_time": "2023-12-07T20:09:38.259Z"
   },
   {
    "duration": 10,
    "start_time": "2023-12-07T20:10:21.667Z"
   },
   {
    "duration": 10,
    "start_time": "2023-12-07T20:10:41.469Z"
   },
   {
    "duration": 10,
    "start_time": "2023-12-07T20:11:03.711Z"
   },
   {
    "duration": 12,
    "start_time": "2023-12-07T20:17:21.051Z"
   },
   {
    "duration": 10,
    "start_time": "2023-12-07T20:17:41.282Z"
   },
   {
    "duration": 13,
    "start_time": "2023-12-07T20:17:51.674Z"
   },
   {
    "duration": 10,
    "start_time": "2023-12-07T20:18:20.116Z"
   },
   {
    "duration": 10,
    "start_time": "2023-12-07T20:18:53.940Z"
   },
   {
    "duration": 12,
    "start_time": "2023-12-07T20:21:15.977Z"
   },
   {
    "duration": 3,
    "start_time": "2023-12-07T20:21:44.996Z"
   },
   {
    "duration": 69,
    "start_time": "2023-12-07T20:21:45.580Z"
   },
   {
    "duration": 11,
    "start_time": "2023-12-07T20:21:45.948Z"
   },
   {
    "duration": 15,
    "start_time": "2023-12-07T20:21:46.153Z"
   },
   {
    "duration": 11,
    "start_time": "2023-12-07T20:21:46.317Z"
   },
   {
    "duration": 12,
    "start_time": "2023-12-07T20:21:46.759Z"
   },
   {
    "duration": 10,
    "start_time": "2023-12-07T20:21:47.243Z"
   },
   {
    "duration": 16,
    "start_time": "2023-12-07T20:21:47.620Z"
   },
   {
    "duration": 4,
    "start_time": "2023-12-07T20:21:47.996Z"
   },
   {
    "duration": 5,
    "start_time": "2023-12-07T20:21:48.390Z"
   },
   {
    "duration": 115,
    "start_time": "2023-12-07T20:21:48.990Z"
   },
   {
    "duration": 9,
    "start_time": "2023-12-07T20:21:49.414Z"
   },
   {
    "duration": 9,
    "start_time": "2023-12-07T20:21:49.823Z"
   },
   {
    "duration": 11,
    "start_time": "2023-12-07T20:21:50.244Z"
   },
   {
    "duration": 111,
    "start_time": "2023-12-07T20:21:50.448Z"
   },
   {
    "duration": 9,
    "start_time": "2023-12-07T20:21:50.820Z"
   },
   {
    "duration": 9,
    "start_time": "2023-12-07T20:21:51.221Z"
   },
   {
    "duration": 9,
    "start_time": "2023-12-07T20:21:51.611Z"
   },
   {
    "duration": 7,
    "start_time": "2023-12-07T20:21:52.046Z"
   },
   {
    "duration": 12,
    "start_time": "2023-12-07T20:21:52.439Z"
   },
   {
    "duration": 13,
    "start_time": "2023-12-07T20:21:52.934Z"
   },
   {
    "duration": 6,
    "start_time": "2023-12-07T20:21:53.388Z"
   },
   {
    "duration": 113,
    "start_time": "2023-12-07T20:24:04.739Z"
   },
   {
    "duration": 109,
    "start_time": "2023-12-07T20:24:35.149Z"
   },
   {
    "duration": 113,
    "start_time": "2023-12-07T20:25:01.424Z"
   },
   {
    "duration": 109,
    "start_time": "2023-12-07T20:25:13.697Z"
   },
   {
    "duration": 183,
    "start_time": "2023-12-07T20:25:22.886Z"
   },
   {
    "duration": 105,
    "start_time": "2023-12-07T20:25:30.607Z"
   },
   {
    "duration": 117,
    "start_time": "2023-12-07T20:26:59.307Z"
   },
   {
    "duration": 117,
    "start_time": "2023-12-07T20:27:14.994Z"
   },
   {
    "duration": 113,
    "start_time": "2023-12-07T20:27:22.431Z"
   },
   {
    "duration": 108,
    "start_time": "2023-12-07T20:27:32.456Z"
   },
   {
    "duration": 3,
    "start_time": "2023-12-07T20:27:39.495Z"
   },
   {
    "duration": 68,
    "start_time": "2023-12-07T20:27:40.089Z"
   },
   {
    "duration": 12,
    "start_time": "2023-12-07T20:27:40.512Z"
   },
   {
    "duration": 13,
    "start_time": "2023-12-07T20:27:40.704Z"
   },
   {
    "duration": 11,
    "start_time": "2023-12-07T20:27:40.900Z"
   },
   {
    "duration": 11,
    "start_time": "2023-12-07T20:27:41.282Z"
   },
   {
    "duration": 9,
    "start_time": "2023-12-07T20:27:41.832Z"
   },
   {
    "duration": 11,
    "start_time": "2023-12-07T20:27:42.248Z"
   },
   {
    "duration": 4,
    "start_time": "2023-12-07T20:27:42.649Z"
   },
   {
    "duration": 4,
    "start_time": "2023-12-07T20:27:43.038Z"
   },
   {
    "duration": 116,
    "start_time": "2023-12-07T20:27:43.646Z"
   },
   {
    "duration": 9,
    "start_time": "2023-12-07T20:27:44.038Z"
   },
   {
    "duration": 9,
    "start_time": "2023-12-07T20:27:44.432Z"
   },
   {
    "duration": 12,
    "start_time": "2023-12-07T20:27:44.839Z"
   },
   {
    "duration": 118,
    "start_time": "2023-12-07T20:27:45.030Z"
   },
   {
    "duration": 8,
    "start_time": "2023-12-07T20:27:45.423Z"
   },
   {
    "duration": 9,
    "start_time": "2023-12-07T20:27:45.857Z"
   },
   {
    "duration": 10,
    "start_time": "2023-12-07T20:27:46.265Z"
   },
   {
    "duration": 7,
    "start_time": "2023-12-07T20:27:46.681Z"
   },
   {
    "duration": 13,
    "start_time": "2023-12-07T20:27:47.095Z"
   },
   {
    "duration": 112,
    "start_time": "2023-12-07T20:27:47.524Z"
   },
   {
    "duration": 108,
    "start_time": "2023-12-07T20:27:47.960Z"
   },
   {
    "duration": 16,
    "start_time": "2023-12-07T20:27:49.046Z"
   },
   {
    "duration": 8,
    "start_time": "2023-12-07T20:27:50.097Z"
   },
   {
    "duration": 1241,
    "start_time": "2023-12-08T07:28:28.329Z"
   },
   {
    "duration": 306,
    "start_time": "2023-12-08T07:28:30.382Z"
   },
   {
    "duration": 15,
    "start_time": "2023-12-08T07:28:30.774Z"
   },
   {
    "duration": 14,
    "start_time": "2023-12-08T07:28:30.966Z"
   },
   {
    "duration": 11,
    "start_time": "2023-12-08T07:28:31.151Z"
   },
   {
    "duration": 10,
    "start_time": "2023-12-08T07:28:31.900Z"
   },
   {
    "duration": 12,
    "start_time": "2023-12-08T07:28:32.255Z"
   },
   {
    "duration": 6,
    "start_time": "2023-12-08T07:28:32.639Z"
   },
   {
    "duration": 4,
    "start_time": "2023-12-08T07:28:33.007Z"
   },
   {
    "duration": 135,
    "start_time": "2023-12-08T07:28:33.573Z"
   },
   {
    "duration": 10,
    "start_time": "2023-12-08T07:28:33.975Z"
   },
   {
    "duration": 9,
    "start_time": "2023-12-08T07:28:34.382Z"
   },
   {
    "duration": 12,
    "start_time": "2023-12-08T07:28:34.765Z"
   },
   {
    "duration": 113,
    "start_time": "2023-12-08T07:28:34.964Z"
   },
   {
    "duration": 10,
    "start_time": "2023-12-08T07:28:35.346Z"
   },
   {
    "duration": 12,
    "start_time": "2023-12-08T07:28:35.758Z"
   },
   {
    "duration": 9,
    "start_time": "2023-12-08T07:28:36.171Z"
   },
   {
    "duration": 7,
    "start_time": "2023-12-08T07:28:36.581Z"
   },
   {
    "duration": 13,
    "start_time": "2023-12-08T07:28:36.980Z"
   },
   {
    "duration": 112,
    "start_time": "2023-12-08T07:28:37.388Z"
   },
   {
    "duration": 115,
    "start_time": "2023-12-08T07:28:37.968Z"
   },
   {
    "duration": 14,
    "start_time": "2023-12-08T07:28:38.645Z"
   },
   {
    "duration": 7,
    "start_time": "2023-12-08T07:28:39.214Z"
   },
   {
    "duration": 86,
    "start_time": "2023-12-08T07:32:03.025Z"
   },
   {
    "duration": 4,
    "start_time": "2023-12-08T07:32:20.138Z"
   },
   {
    "duration": 8,
    "start_time": "2023-12-08T07:32:33.341Z"
   },
   {
    "duration": 14,
    "start_time": "2023-12-08T07:33:14.137Z"
   },
   {
    "duration": 8,
    "start_time": "2023-12-08T07:33:23.249Z"
   },
   {
    "duration": 20658,
    "start_time": "2023-12-08T07:35:27.951Z"
   },
   {
    "duration": 16,
    "start_time": "2023-12-08T07:36:41.675Z"
   },
   {
    "duration": 146,
    "start_time": "2023-12-08T07:37:36.193Z"
   },
   {
    "duration": 142,
    "start_time": "2023-12-08T07:38:27.462Z"
   },
   {
    "duration": 168,
    "start_time": "2023-12-08T07:38:36.923Z"
   },
   {
    "duration": 133,
    "start_time": "2023-12-08T07:38:42.602Z"
   },
   {
    "duration": 140,
    "start_time": "2023-12-08T07:39:06.810Z"
   },
   {
    "duration": 128,
    "start_time": "2023-12-08T07:39:11.733Z"
   },
   {
    "duration": 131,
    "start_time": "2023-12-08T07:39:15.907Z"
   },
   {
    "duration": 148,
    "start_time": "2023-12-08T07:39:19.682Z"
   },
   {
    "duration": 141,
    "start_time": "2023-12-08T07:39:24.385Z"
   },
   {
    "duration": 125,
    "start_time": "2023-12-08T07:39:28.586Z"
   },
   {
    "duration": 128,
    "start_time": "2023-12-08T07:39:34.971Z"
   },
   {
    "duration": 133,
    "start_time": "2023-12-08T07:39:42.595Z"
   },
   {
    "duration": 129,
    "start_time": "2023-12-08T07:39:50.657Z"
   },
   {
    "duration": 153,
    "start_time": "2023-12-08T07:39:55.269Z"
   },
   {
    "duration": 144,
    "start_time": "2023-12-08T07:40:01.218Z"
   },
   {
    "duration": 136,
    "start_time": "2023-12-08T07:40:14.277Z"
   },
   {
    "duration": 131,
    "start_time": "2023-12-08T07:40:23.752Z"
   },
   {
    "duration": 13,
    "start_time": "2023-12-08T07:41:08.395Z"
   },
   {
    "duration": 222,
    "start_time": "2023-12-08T07:41:14.041Z"
   },
   {
    "duration": 134,
    "start_time": "2023-12-08T07:41:28.196Z"
   },
   {
    "duration": 179,
    "start_time": "2023-12-08T07:43:45.325Z"
   },
   {
    "duration": 242,
    "start_time": "2023-12-08T07:44:02.324Z"
   },
   {
    "duration": 235,
    "start_time": "2023-12-08T07:44:12.122Z"
   },
   {
    "duration": 239,
    "start_time": "2023-12-08T07:44:32.645Z"
   },
   {
    "duration": 214,
    "start_time": "2023-12-08T07:56:20.319Z"
   },
   {
    "duration": 205,
    "start_time": "2023-12-08T07:56:27.587Z"
   },
   {
    "duration": 500,
    "start_time": "2023-12-08T07:56:38.926Z"
   },
   {
    "duration": 226,
    "start_time": "2023-12-08T07:56:58.300Z"
   },
   {
    "duration": 196,
    "start_time": "2023-12-08T07:57:02.834Z"
   },
   {
    "duration": 1280,
    "start_time": "2023-12-09T18:29:00.123Z"
   },
   {
    "duration": 293,
    "start_time": "2023-12-09T18:29:01.405Z"
   },
   {
    "duration": 15,
    "start_time": "2023-12-09T18:29:02.608Z"
   },
   {
    "duration": 14,
    "start_time": "2023-12-09T18:29:02.791Z"
   },
   {
    "duration": 11,
    "start_time": "2023-12-09T18:29:02.979Z"
   },
   {
    "duration": 10,
    "start_time": "2023-12-09T18:29:03.750Z"
   },
   {
    "duration": 11,
    "start_time": "2023-12-09T18:29:04.136Z"
   },
   {
    "duration": 6,
    "start_time": "2023-12-09T18:29:04.584Z"
   },
   {
    "duration": 5,
    "start_time": "2023-12-09T18:29:05.041Z"
   },
   {
    "duration": 123,
    "start_time": "2023-12-09T18:29:05.743Z"
   },
   {
    "duration": 11,
    "start_time": "2023-12-09T18:29:06.168Z"
   },
   {
    "duration": 10,
    "start_time": "2023-12-09T18:29:06.577Z"
   },
   {
    "duration": 11,
    "start_time": "2023-12-09T18:29:06.979Z"
   },
   {
    "duration": 112,
    "start_time": "2023-12-09T18:29:07.172Z"
   },
   {
    "duration": 10,
    "start_time": "2023-12-09T18:29:07.560Z"
   },
   {
    "duration": 9,
    "start_time": "2023-12-09T18:29:07.969Z"
   },
   {
    "duration": 9,
    "start_time": "2023-12-09T18:29:08.400Z"
   },
   {
    "duration": 8,
    "start_time": "2023-12-09T18:29:08.776Z"
   },
   {
    "duration": 11,
    "start_time": "2023-12-09T18:29:09.182Z"
   },
   {
    "duration": 114,
    "start_time": "2023-12-09T18:29:09.568Z"
   },
   {
    "duration": 112,
    "start_time": "2023-12-09T18:29:09.944Z"
   },
   {
    "duration": 15,
    "start_time": "2023-12-09T18:29:10.542Z"
   },
   {
    "duration": 7,
    "start_time": "2023-12-09T18:29:10.966Z"
   },
   {
    "duration": 229,
    "start_time": "2023-12-09T18:29:13.290Z"
   },
   {
    "duration": 193,
    "start_time": "2023-12-09T18:29:15.320Z"
   },
   {
    "duration": 202,
    "start_time": "2023-12-09T18:32:46.172Z"
   },
   {
    "duration": 208,
    "start_time": "2023-12-09T18:32:59.274Z"
   },
   {
    "duration": 102,
    "start_time": "2023-12-09T18:38:20.629Z"
   },
   {
    "duration": 10,
    "start_time": "2023-12-09T18:38:34.463Z"
   },
   {
    "duration": 9,
    "start_time": "2023-12-09T18:38:44.807Z"
   },
   {
    "duration": 3,
    "start_time": "2023-12-09T18:38:55.227Z"
   },
   {
    "duration": 62,
    "start_time": "2023-12-09T18:38:55.844Z"
   },
   {
    "duration": 13,
    "start_time": "2023-12-09T18:38:56.196Z"
   },
   {
    "duration": 13,
    "start_time": "2023-12-09T18:38:56.377Z"
   },
   {
    "duration": 12,
    "start_time": "2023-12-09T18:38:56.556Z"
   },
   {
    "duration": 10,
    "start_time": "2023-12-09T18:38:57.309Z"
   },
   {
    "duration": 14,
    "start_time": "2023-12-09T18:38:57.700Z"
   },
   {
    "duration": 5,
    "start_time": "2023-12-09T18:38:58.068Z"
   },
   {
    "duration": 5,
    "start_time": "2023-12-09T18:38:58.453Z"
   },
   {
    "duration": 112,
    "start_time": "2023-12-09T18:38:59.036Z"
   },
   {
    "duration": 10,
    "start_time": "2023-12-09T18:38:59.428Z"
   },
   {
    "duration": 10,
    "start_time": "2023-12-09T18:38:59.828Z"
   },
   {
    "duration": 12,
    "start_time": "2023-12-09T18:39:00.214Z"
   },
   {
    "duration": 197,
    "start_time": "2023-12-09T18:39:00.423Z"
   },
   {
    "duration": 8,
    "start_time": "2023-12-09T18:39:00.829Z"
   },
   {
    "duration": 9,
    "start_time": "2023-12-09T18:39:01.251Z"
   },
   {
    "duration": 10,
    "start_time": "2023-12-09T18:39:01.652Z"
   },
   {
    "duration": 8,
    "start_time": "2023-12-09T18:39:02.055Z"
   },
   {
    "duration": 12,
    "start_time": "2023-12-09T18:39:02.413Z"
   },
   {
    "duration": 110,
    "start_time": "2023-12-09T18:39:02.796Z"
   },
   {
    "duration": 115,
    "start_time": "2023-12-09T18:39:03.203Z"
   },
   {
    "duration": 15,
    "start_time": "2023-12-09T18:39:03.813Z"
   },
   {
    "duration": 6,
    "start_time": "2023-12-09T18:39:04.188Z"
   },
   {
    "duration": 216,
    "start_time": "2023-12-09T18:39:05.593Z"
   },
   {
    "duration": 185,
    "start_time": "2023-12-09T18:39:07.300Z"
   },
   {
    "duration": 10,
    "start_time": "2023-12-09T18:39:09.765Z"
   },
   {
    "duration": 238,
    "start_time": "2023-12-09T18:39:25.167Z"
   },
   {
    "duration": 217,
    "start_time": "2023-12-09T18:39:42.302Z"
   },
   {
    "duration": 229,
    "start_time": "2023-12-09T18:40:12.324Z"
   },
   {
    "duration": 216,
    "start_time": "2023-12-09T18:40:55.198Z"
   },
   {
    "duration": 266,
    "start_time": "2023-12-09T18:41:19.111Z"
   },
   {
    "duration": 269,
    "start_time": "2023-12-09T18:41:42.462Z"
   },
   {
    "duration": 359,
    "start_time": "2023-12-09T18:41:52.943Z"
   },
   {
    "duration": 225,
    "start_time": "2023-12-09T18:42:05.007Z"
   },
   {
    "duration": 9,
    "start_time": "2023-12-09T18:45:43.508Z"
   },
   {
    "duration": 12,
    "start_time": "2023-12-09T18:45:53.047Z"
   },
   {
    "duration": 13,
    "start_time": "2023-12-09T18:46:01.734Z"
   },
   {
    "duration": 11,
    "start_time": "2023-12-09T18:46:11.106Z"
   },
   {
    "duration": 13,
    "start_time": "2023-12-09T18:46:36.019Z"
   },
   {
    "duration": 8,
    "start_time": "2023-12-09T18:46:49.553Z"
   },
   {
    "duration": 6,
    "start_time": "2023-12-09T18:46:58.066Z"
   },
   {
    "duration": 17,
    "start_time": "2023-12-09T18:49:33.309Z"
   },
   {
    "duration": 10,
    "start_time": "2023-12-09T18:49:48.868Z"
   },
   {
    "duration": 10,
    "start_time": "2023-12-09T18:49:58.378Z"
   },
   {
    "duration": 17279,
    "start_time": "2023-12-09T18:50:08.003Z"
   },
   {
    "duration": 237,
    "start_time": "2023-12-09T19:19:33.945Z"
   },
   {
    "duration": 263,
    "start_time": "2023-12-09T19:19:45.202Z"
   },
   {
    "duration": 504,
    "start_time": "2023-12-09T19:31:07.333Z"
   },
   {
    "duration": 21,
    "start_time": "2023-12-09T19:55:42.291Z"
   },
   {
    "duration": 26,
    "start_time": "2023-12-09T19:55:54.545Z"
   },
   {
    "duration": 28,
    "start_time": "2023-12-09T19:56:02.659Z"
   },
   {
    "duration": 30,
    "start_time": "2023-12-09T19:56:37.042Z"
   },
   {
    "duration": 30,
    "start_time": "2023-12-09T20:01:06.643Z"
   },
   {
    "duration": 18,
    "start_time": "2023-12-09T20:07:01.866Z"
   },
   {
    "duration": 229,
    "start_time": "2023-12-09T20:18:12.604Z"
   },
   {
    "duration": 230,
    "start_time": "2023-12-09T20:22:27.397Z"
   },
   {
    "duration": 244,
    "start_time": "2023-12-09T20:25:57.150Z"
   },
   {
    "duration": 241,
    "start_time": "2023-12-09T20:28:58.527Z"
   },
   {
    "duration": 1390,
    "start_time": "2023-12-10T08:56:26.014Z"
   },
   {
    "duration": 194,
    "start_time": "2023-12-10T08:56:28.210Z"
   },
   {
    "duration": 17,
    "start_time": "2023-12-10T08:56:28.577Z"
   },
   {
    "duration": 16,
    "start_time": "2023-12-10T08:56:28.764Z"
   },
   {
    "duration": 12,
    "start_time": "2023-12-10T08:56:28.949Z"
   },
   {
    "duration": 10,
    "start_time": "2023-12-10T08:56:29.699Z"
   },
   {
    "duration": 12,
    "start_time": "2023-12-10T08:56:30.090Z"
   },
   {
    "duration": 7,
    "start_time": "2023-12-10T08:56:30.466Z"
   },
   {
    "duration": 5,
    "start_time": "2023-12-10T08:56:30.857Z"
   },
   {
    "duration": 153,
    "start_time": "2023-12-10T08:56:31.442Z"
   },
   {
    "duration": 13,
    "start_time": "2023-12-10T08:56:31.835Z"
   },
   {
    "duration": 11,
    "start_time": "2023-12-10T08:56:32.252Z"
   },
   {
    "duration": 14,
    "start_time": "2023-12-10T08:56:32.650Z"
   },
   {
    "duration": 129,
    "start_time": "2023-12-10T08:56:32.861Z"
   },
   {
    "duration": 9,
    "start_time": "2023-12-10T08:56:33.252Z"
   },
   {
    "duration": 10,
    "start_time": "2023-12-10T08:56:33.651Z"
   },
   {
    "duration": 10,
    "start_time": "2023-12-10T08:56:34.066Z"
   },
   {
    "duration": 8,
    "start_time": "2023-12-10T08:56:34.474Z"
   },
   {
    "duration": 18,
    "start_time": "2023-12-10T08:56:34.858Z"
   },
   {
    "duration": 121,
    "start_time": "2023-12-10T08:56:35.253Z"
   },
   {
    "duration": 123,
    "start_time": "2023-12-10T08:56:35.660Z"
   },
   {
    "duration": 15,
    "start_time": "2023-12-10T08:56:36.276Z"
   },
   {
    "duration": 6,
    "start_time": "2023-12-10T08:56:36.691Z"
   },
   {
    "duration": 257,
    "start_time": "2023-12-10T08:56:38.194Z"
   },
   {
    "duration": 225,
    "start_time": "2023-12-10T08:56:39.163Z"
   },
   {
    "duration": 252,
    "start_time": "2023-12-10T08:56:39.988Z"
   },
   {
    "duration": 6,
    "start_time": "2023-12-10T08:56:40.418Z"
   },
   {
    "duration": 276,
    "start_time": "2023-12-10T08:56:41.233Z"
   },
   {
    "duration": 259,
    "start_time": "2023-12-10T08:56:42.603Z"
   },
   {
    "duration": 30,
    "start_time": "2023-12-10T08:56:44.022Z"
   },
   {
    "duration": 19,
    "start_time": "2023-12-10T08:56:44.450Z"
   },
   {
    "duration": 342,
    "start_time": "2023-12-10T08:56:44.892Z"
   },
   {
    "duration": 263,
    "start_time": "2023-12-10T08:56:45.330Z"
   },
   {
    "duration": 270,
    "start_time": "2023-12-10T08:56:45.971Z"
   },
   {
    "duration": 263,
    "start_time": "2023-12-10T08:56:46.378Z"
   },
   {
    "duration": 30,
    "start_time": "2023-12-10T09:52:18.123Z"
   },
   {
    "duration": 873,
    "start_time": "2023-12-10T10:10:05.102Z"
   },
   {
    "duration": 9,
    "start_time": "2023-12-10T10:23:19.512Z"
   },
   {
    "duration": 107,
    "start_time": "2023-12-10T10:26:00.161Z"
   },
   {
    "duration": 9,
    "start_time": "2023-12-10T10:26:41.224Z"
   },
   {
    "duration": 10,
    "start_time": "2023-12-10T10:28:41.092Z"
   },
   {
    "duration": 7,
    "start_time": "2023-12-10T10:29:15.138Z"
   },
   {
    "duration": 11,
    "start_time": "2023-12-10T10:30:27.141Z"
   },
   {
    "duration": 3,
    "start_time": "2023-12-10T10:31:27.066Z"
   },
   {
    "duration": 72,
    "start_time": "2023-12-10T10:31:35.010Z"
   },
   {
    "duration": 13,
    "start_time": "2023-12-10T10:31:35.329Z"
   },
   {
    "duration": 14,
    "start_time": "2023-12-10T10:31:35.480Z"
   },
   {
    "duration": 12,
    "start_time": "2023-12-10T10:31:35.635Z"
   },
   {
    "duration": 9,
    "start_time": "2023-12-10T10:31:36.331Z"
   },
   {
    "duration": 12,
    "start_time": "2023-12-10T10:31:36.720Z"
   },
   {
    "duration": 5,
    "start_time": "2023-12-10T10:31:37.046Z"
   },
   {
    "duration": 4,
    "start_time": "2023-12-10T10:31:37.412Z"
   },
   {
    "duration": 129,
    "start_time": "2023-12-10T10:31:37.984Z"
   },
   {
    "duration": 9,
    "start_time": "2023-12-10T10:31:38.365Z"
   },
   {
    "duration": 10,
    "start_time": "2023-12-10T10:31:38.732Z"
   },
   {
    "duration": 13,
    "start_time": "2023-12-10T10:31:39.099Z"
   },
   {
    "duration": 127,
    "start_time": "2023-12-10T10:31:39.287Z"
   },
   {
    "duration": 9,
    "start_time": "2023-12-10T10:31:39.663Z"
   },
   {
    "duration": 9,
    "start_time": "2023-12-10T10:31:40.027Z"
   },
   {
    "duration": 9,
    "start_time": "2023-12-10T10:31:40.390Z"
   },
   {
    "duration": 8,
    "start_time": "2023-12-10T10:31:40.763Z"
   },
   {
    "duration": 12,
    "start_time": "2023-12-10T10:31:41.143Z"
   },
   {
    "duration": 128,
    "start_time": "2023-12-10T10:31:41.518Z"
   },
   {
    "duration": 133,
    "start_time": "2023-12-10T10:31:41.897Z"
   },
   {
    "duration": 15,
    "start_time": "2023-12-10T10:31:42.440Z"
   },
   {
    "duration": 7,
    "start_time": "2023-12-10T10:31:42.812Z"
   },
   {
    "duration": 254,
    "start_time": "2023-12-10T10:31:43.949Z"
   },
   {
    "duration": 220,
    "start_time": "2023-12-10T10:31:44.754Z"
   },
   {
    "duration": 257,
    "start_time": "2023-12-10T10:31:45.422Z"
   },
   {
    "duration": 6,
    "start_time": "2023-12-10T10:31:45.819Z"
   },
   {
    "duration": 343,
    "start_time": "2023-12-10T10:31:46.528Z"
   },
   {
    "duration": 271,
    "start_time": "2023-12-10T10:31:47.283Z"
   },
   {
    "duration": 31,
    "start_time": "2023-12-10T10:31:48.295Z"
   },
   {
    "duration": 20,
    "start_time": "2023-12-10T10:31:48.685Z"
   },
   {
    "duration": 253,
    "start_time": "2023-12-10T10:31:49.079Z"
   },
   {
    "duration": 256,
    "start_time": "2023-12-10T10:31:49.462Z"
   },
   {
    "duration": 274,
    "start_time": "2023-12-10T10:31:50.048Z"
   },
   {
    "duration": 264,
    "start_time": "2023-12-10T10:31:50.439Z"
   },
   {
    "duration": 882,
    "start_time": "2023-12-10T10:31:51.478Z"
   },
   {
    "duration": 8,
    "start_time": "2023-12-10T10:31:52.362Z"
   },
   {
    "duration": 46,
    "start_time": "2023-12-10T10:31:52.371Z"
   },
   {
    "duration": 11,
    "start_time": "2023-12-10T10:32:12.990Z"
   },
   {
    "duration": 10,
    "start_time": "2023-12-10T10:32:24.359Z"
   },
   {
    "duration": 10,
    "start_time": "2023-12-10T10:32:48.936Z"
   },
   {
    "duration": 3,
    "start_time": "2023-12-10T10:35:36.322Z"
   },
   {
    "duration": 65,
    "start_time": "2023-12-10T10:35:36.970Z"
   },
   {
    "duration": 13,
    "start_time": "2023-12-10T10:35:37.352Z"
   },
   {
    "duration": 15,
    "start_time": "2023-12-10T10:35:37.521Z"
   },
   {
    "duration": 13,
    "start_time": "2023-12-10T10:35:37.709Z"
   },
   {
    "duration": 9,
    "start_time": "2023-12-10T10:35:38.554Z"
   },
   {
    "duration": 13,
    "start_time": "2023-12-10T10:35:40.403Z"
   },
   {
    "duration": 4,
    "start_time": "2023-12-10T10:35:41.192Z"
   },
   {
    "duration": 5,
    "start_time": "2023-12-10T10:35:42.077Z"
   },
   {
    "duration": 8,
    "start_time": "2023-12-10T10:35:44.580Z"
   },
   {
    "duration": 14,
    "start_time": "2023-12-10T10:38:08.693Z"
   },
   {
    "duration": 132,
    "start_time": "2023-12-10T10:38:15.451Z"
   },
   {
    "duration": 11,
    "start_time": "2023-12-10T10:38:18.606Z"
   },
   {
    "duration": 9,
    "start_time": "2023-12-10T10:38:19.023Z"
   },
   {
    "duration": 13,
    "start_time": "2023-12-10T10:38:19.352Z"
   },
   {
    "duration": 138,
    "start_time": "2023-12-10T10:38:19.547Z"
   },
   {
    "duration": 8,
    "start_time": "2023-12-10T10:38:19.887Z"
   },
   {
    "duration": 8,
    "start_time": "2023-12-10T10:38:20.249Z"
   },
   {
    "duration": 7,
    "start_time": "2023-12-10T10:38:20.598Z"
   },
   {
    "duration": 8,
    "start_time": "2023-12-10T10:38:20.952Z"
   },
   {
    "duration": 13,
    "start_time": "2023-12-10T10:38:21.312Z"
   },
   {
    "duration": 128,
    "start_time": "2023-12-10T10:38:21.680Z"
   },
   {
    "duration": 131,
    "start_time": "2023-12-10T10:38:22.041Z"
   },
   {
    "duration": 22,
    "start_time": "2023-12-10T10:38:22.607Z"
   },
   {
    "duration": 6,
    "start_time": "2023-12-10T10:38:22.987Z"
   },
   {
    "duration": 253,
    "start_time": "2023-12-10T10:38:24.144Z"
   },
   {
    "duration": 305,
    "start_time": "2023-12-10T10:38:24.863Z"
   },
   {
    "duration": 253,
    "start_time": "2023-12-10T10:38:25.669Z"
   },
   {
    "duration": 7,
    "start_time": "2023-12-10T10:38:26.081Z"
   },
   {
    "duration": 276,
    "start_time": "2023-12-10T10:38:26.830Z"
   },
   {
    "duration": 261,
    "start_time": "2023-12-10T10:38:27.628Z"
   },
   {
    "duration": 31,
    "start_time": "2023-12-10T10:38:28.598Z"
   },
   {
    "duration": 19,
    "start_time": "2023-12-10T10:38:28.928Z"
   },
   {
    "duration": 263,
    "start_time": "2023-12-10T10:38:29.304Z"
   },
   {
    "duration": 259,
    "start_time": "2023-12-10T10:38:29.705Z"
   },
   {
    "duration": 273,
    "start_time": "2023-12-10T10:38:30.329Z"
   },
   {
    "duration": 295,
    "start_time": "2023-12-10T10:38:30.733Z"
   },
   {
    "duration": 879,
    "start_time": "2023-12-10T10:38:31.885Z"
   },
   {
    "duration": 17,
    "start_time": "2023-12-10T10:38:59.210Z"
   },
   {
    "duration": 1149,
    "start_time": "2023-12-10T10:39:24.219Z"
   },
   {
    "duration": 1233,
    "start_time": "2023-12-10T10:43:34.925Z"
   },
   {
    "duration": 1161,
    "start_time": "2023-12-10T10:44:06.932Z"
   },
   {
    "duration": 1316,
    "start_time": "2023-12-10T10:44:31.850Z"
   },
   {
    "duration": 1184,
    "start_time": "2023-12-10T10:44:39.171Z"
   },
   {
    "duration": 302,
    "start_time": "2023-12-10T10:45:11.645Z"
   },
   {
    "duration": 303,
    "start_time": "2023-12-10T10:49:44.112Z"
   },
   {
    "duration": 12267,
    "start_time": "2023-12-10T10:50:13.358Z"
   },
   {
    "duration": 11,
    "start_time": "2023-12-10T10:55:28.625Z"
   },
   {
    "duration": 10,
    "start_time": "2023-12-10T10:55:55.929Z"
   },
   {
    "duration": 28,
    "start_time": "2023-12-10T11:00:58.198Z"
   },
   {
    "duration": 69,
    "start_time": "2023-12-10T11:07:50.101Z"
   },
   {
    "duration": 12,
    "start_time": "2023-12-10T11:08:01.233Z"
   },
   {
    "duration": 11,
    "start_time": "2023-12-10T11:09:33.630Z"
   },
   {
    "duration": 1153,
    "start_time": "2023-12-10T11:10:52.871Z"
   },
   {
    "duration": 914,
    "start_time": "2023-12-10T11:11:57.305Z"
   },
   {
    "duration": 1217,
    "start_time": "2023-12-10T11:15:44.446Z"
   },
   {
    "duration": 1150,
    "start_time": "2023-12-10T11:15:56.169Z"
   },
   {
    "duration": 1205,
    "start_time": "2023-12-10T11:16:17.159Z"
   },
   {
    "duration": 1231,
    "start_time": "2023-12-10T11:17:15.252Z"
   },
   {
    "duration": 864,
    "start_time": "2023-12-10T11:17:33.323Z"
   },
   {
    "duration": 890,
    "start_time": "2023-12-10T11:18:16.587Z"
   },
   {
    "duration": 74,
    "start_time": "2023-12-10T11:18:38.643Z"
   },
   {
    "duration": 63,
    "start_time": "2023-12-10T11:19:04.124Z"
   },
   {
    "duration": 8,
    "start_time": "2023-12-10T11:19:16.319Z"
   },
   {
    "duration": 12,
    "start_time": "2023-12-10T11:22:23.276Z"
   },
   {
    "duration": 14,
    "start_time": "2023-12-10T11:22:39.141Z"
   },
   {
    "duration": 875,
    "start_time": "2023-12-10T11:23:34.973Z"
   },
   {
    "duration": 13,
    "start_time": "2023-12-10T11:23:45.084Z"
   },
   {
    "duration": 13,
    "start_time": "2023-12-10T11:24:25.977Z"
   },
   {
    "duration": 12,
    "start_time": "2023-12-10T11:25:37.792Z"
   },
   {
    "duration": 13,
    "start_time": "2023-12-10T11:27:27.678Z"
   },
   {
    "duration": 13,
    "start_time": "2023-12-10T11:27:48.577Z"
   },
   {
    "duration": 9,
    "start_time": "2023-12-10T11:28:02.602Z"
   },
   {
    "duration": 14,
    "start_time": "2023-12-10T11:28:09.356Z"
   },
   {
    "duration": 6,
    "start_time": "2023-12-10T12:24:25.535Z"
   },
   {
    "duration": 5,
    "start_time": "2023-12-10T12:26:49.154Z"
   },
   {
    "duration": 5,
    "start_time": "2023-12-10T12:27:08.706Z"
   },
   {
    "duration": 7,
    "start_time": "2023-12-10T12:46:16.373Z"
   },
   {
    "duration": 5,
    "start_time": "2023-12-10T12:46:33.520Z"
   },
   {
    "duration": 15,
    "start_time": "2023-12-10T12:49:33.631Z"
   },
   {
    "duration": 6,
    "start_time": "2023-12-10T12:49:40.674Z"
   },
   {
    "duration": 13,
    "start_time": "2023-12-10T13:05:40.916Z"
   },
   {
    "duration": 13,
    "start_time": "2023-12-10T13:09:07.357Z"
   },
   {
    "duration": 3,
    "start_time": "2023-12-10T15:10:21.575Z"
   },
   {
    "duration": 70,
    "start_time": "2023-12-10T15:10:22.493Z"
   },
   {
    "duration": 14,
    "start_time": "2023-12-10T15:10:22.848Z"
   },
   {
    "duration": 14,
    "start_time": "2023-12-10T15:10:23.020Z"
   },
   {
    "duration": 13,
    "start_time": "2023-12-10T15:10:23.194Z"
   },
   {
    "duration": 10,
    "start_time": "2023-12-10T15:10:23.855Z"
   },
   {
    "duration": 13,
    "start_time": "2023-12-10T15:10:24.222Z"
   },
   {
    "duration": 5,
    "start_time": "2023-12-10T15:10:24.590Z"
   },
   {
    "duration": 4,
    "start_time": "2023-12-10T15:10:24.951Z"
   },
   {
    "duration": 9,
    "start_time": "2023-12-10T15:10:25.498Z"
   },
   {
    "duration": 13,
    "start_time": "2023-12-10T15:10:25.861Z"
   },
   {
    "duration": 128,
    "start_time": "2023-12-10T15:10:26.237Z"
   },
   {
    "duration": 9,
    "start_time": "2023-12-10T15:10:26.614Z"
   },
   {
    "duration": 9,
    "start_time": "2023-12-10T15:10:26.989Z"
   },
   {
    "duration": 12,
    "start_time": "2023-12-10T15:10:27.364Z"
   },
   {
    "duration": 128,
    "start_time": "2023-12-10T15:10:27.535Z"
   },
   {
    "duration": 7,
    "start_time": "2023-12-10T15:10:27.927Z"
   },
   {
    "duration": 8,
    "start_time": "2023-12-10T15:10:28.334Z"
   },
   {
    "duration": 7,
    "start_time": "2023-12-10T15:10:28.718Z"
   },
   {
    "duration": 8,
    "start_time": "2023-12-10T15:10:29.071Z"
   },
   {
    "duration": 12,
    "start_time": "2023-12-10T15:10:29.455Z"
   },
   {
    "duration": 205,
    "start_time": "2023-12-10T15:10:29.841Z"
   },
   {
    "duration": 133,
    "start_time": "2023-12-10T15:10:30.209Z"
   },
   {
    "duration": 68,
    "start_time": "2023-12-10T15:10:30.766Z"
   },
   {
    "duration": 6,
    "start_time": "2023-12-10T15:10:31.135Z"
   },
   {
    "duration": 252,
    "start_time": "2023-12-10T15:10:32.309Z"
   },
   {
    "duration": 214,
    "start_time": "2023-12-10T15:10:33.087Z"
   },
   {
    "duration": 246,
    "start_time": "2023-12-10T15:10:33.862Z"
   },
   {
    "duration": 7,
    "start_time": "2023-12-10T15:10:34.263Z"
   },
   {
    "duration": 260,
    "start_time": "2023-12-10T15:10:35.053Z"
   },
   {
    "duration": 261,
    "start_time": "2023-12-10T15:10:35.836Z"
   },
   {
    "duration": 29,
    "start_time": "2023-12-10T15:10:36.798Z"
   },
   {
    "duration": 19,
    "start_time": "2023-12-10T15:10:37.183Z"
   },
   {
    "duration": 250,
    "start_time": "2023-12-10T15:10:37.558Z"
   },
   {
    "duration": 274,
    "start_time": "2023-12-10T15:10:37.944Z"
   },
   {
    "duration": 273,
    "start_time": "2023-12-10T15:10:38.501Z"
   },
   {
    "duration": 278,
    "start_time": "2023-12-10T15:10:38.870Z"
   },
   {
    "duration": 1015,
    "start_time": "2023-12-10T15:10:39.790Z"
   },
   {
    "duration": 15,
    "start_time": "2023-12-10T15:10:40.807Z"
   },
   {
    "duration": 5,
    "start_time": "2023-12-10T15:10:41.770Z"
   },
   {
    "duration": 5,
    "start_time": "2023-12-10T15:10:42.658Z"
   },
   {
    "duration": 12,
    "start_time": "2023-12-10T15:10:43.711Z"
   },
   {
    "duration": 5,
    "start_time": "2023-12-10T15:21:11.590Z"
   },
   {
    "duration": 282,
    "start_time": "2023-12-10T15:23:27.926Z"
   },
   {
    "duration": 130,
    "start_time": "2023-12-10T15:23:57.153Z"
   },
   {
    "duration": 203,
    "start_time": "2023-12-10T15:24:06.270Z"
   },
   {
    "duration": 181,
    "start_time": "2023-12-10T15:24:58.792Z"
   },
   {
    "duration": 244,
    "start_time": "2023-12-10T15:25:41.734Z"
   },
   {
    "duration": 225,
    "start_time": "2023-12-10T15:25:48.545Z"
   },
   {
    "duration": 232,
    "start_time": "2023-12-10T15:25:53.940Z"
   },
   {
    "duration": 261,
    "start_time": "2023-12-10T15:26:00.806Z"
   },
   {
    "duration": 123,
    "start_time": "2023-12-10T15:26:26.390Z"
   },
   {
    "duration": 250,
    "start_time": "2023-12-10T15:26:40.131Z"
   },
   {
    "duration": 11,
    "start_time": "2023-12-10T15:33:07.502Z"
   },
   {
    "duration": 3,
    "start_time": "2023-12-10T15:33:32.049Z"
   },
   {
    "duration": 321,
    "start_time": "2023-12-10T15:33:36.796Z"
   },
   {
    "duration": 204,
    "start_time": "2023-12-10T15:38:21.780Z"
   },
   {
    "duration": 255,
    "start_time": "2023-12-10T15:38:35.117Z"
   },
   {
    "duration": 226,
    "start_time": "2023-12-10T15:38:40.245Z"
   },
   {
    "duration": 205,
    "start_time": "2023-12-10T15:38:48.476Z"
   },
   {
    "duration": 225,
    "start_time": "2023-12-10T15:38:53.645Z"
   },
   {
    "duration": 216,
    "start_time": "2023-12-10T15:38:58.761Z"
   },
   {
    "duration": 122,
    "start_time": "2023-12-10T15:39:08.842Z"
   },
   {
    "duration": 224,
    "start_time": "2023-12-10T15:39:13.757Z"
   },
   {
    "duration": 18,
    "start_time": "2023-12-10T15:40:02.782Z"
   },
   {
    "duration": 82,
    "start_time": "2023-12-10T15:40:12.173Z"
   },
   {
    "duration": 258,
    "start_time": "2023-12-10T15:40:17.412Z"
   },
   {
    "duration": 276,
    "start_time": "2023-12-10T15:40:32.399Z"
   },
   {
    "duration": 327,
    "start_time": "2023-12-10T15:41:16.245Z"
   },
   {
    "duration": 209,
    "start_time": "2023-12-10T15:45:09.382Z"
   },
   {
    "duration": 226,
    "start_time": "2023-12-10T15:54:00.261Z"
   },
   {
    "duration": 226,
    "start_time": "2023-12-10T15:55:17.357Z"
   },
   {
    "duration": 248,
    "start_time": "2023-12-10T15:56:19.924Z"
   },
   {
    "duration": 212,
    "start_time": "2023-12-10T15:56:26.077Z"
   },
   {
    "duration": 232,
    "start_time": "2023-12-10T15:56:35.948Z"
   },
   {
    "duration": 228,
    "start_time": "2023-12-10T15:56:48.550Z"
   },
   {
    "duration": 217,
    "start_time": "2023-12-10T15:58:33.268Z"
   },
   {
    "duration": 272,
    "start_time": "2023-12-10T15:58:50.806Z"
   },
   {
    "duration": 338,
    "start_time": "2023-12-10T15:59:22.247Z"
   },
   {
    "duration": 265,
    "start_time": "2023-12-10T15:59:34.323Z"
   },
   {
    "duration": 244,
    "start_time": "2023-12-10T16:00:07.655Z"
   },
   {
    "duration": 257,
    "start_time": "2023-12-10T16:00:28.485Z"
   },
   {
    "duration": 262,
    "start_time": "2023-12-10T16:01:38.497Z"
   },
   {
    "duration": 229,
    "start_time": "2023-12-10T16:01:52.953Z"
   },
   {
    "duration": 94,
    "start_time": "2023-12-10T16:04:04.136Z"
   },
   {
    "duration": 93,
    "start_time": "2023-12-10T16:04:11.921Z"
   },
   {
    "duration": 214,
    "start_time": "2023-12-10T16:04:16.639Z"
   },
   {
    "duration": 262,
    "start_time": "2023-12-10T16:04:21.613Z"
   },
   {
    "duration": 277,
    "start_time": "2023-12-10T16:05:11.211Z"
   },
   {
    "duration": 250,
    "start_time": "2023-12-10T16:05:28.891Z"
   },
   {
    "duration": 260,
    "start_time": "2023-12-10T16:08:21.231Z"
   },
   {
    "duration": 334,
    "start_time": "2023-12-10T16:08:32.250Z"
   },
   {
    "duration": 262,
    "start_time": "2023-12-10T16:09:02.898Z"
   },
   {
    "duration": 203,
    "start_time": "2023-12-10T16:14:22.580Z"
   },
   {
    "duration": 267,
    "start_time": "2023-12-10T16:14:24.906Z"
   },
   {
    "duration": 8,
    "start_time": "2023-12-10T18:13:08.197Z"
   },
   {
    "duration": 7,
    "start_time": "2023-12-10T18:14:00.097Z"
   },
   {
    "duration": 6,
    "start_time": "2023-12-10T18:14:15.693Z"
   },
   {
    "duration": 5,
    "start_time": "2023-12-10T18:14:22.905Z"
   },
   {
    "duration": 73,
    "start_time": "2023-12-10T18:17:19.547Z"
   },
   {
    "duration": 4,
    "start_time": "2023-12-10T18:47:56.563Z"
   },
   {
    "duration": 4,
    "start_time": "2023-12-10T18:48:16.282Z"
   },
   {
    "duration": 160,
    "start_time": "2023-12-10T18:54:19.317Z"
   },
   {
    "duration": 264,
    "start_time": "2023-12-10T18:54:27.823Z"
   },
   {
    "duration": 277,
    "start_time": "2023-12-10T18:55:02.309Z"
   },
   {
    "duration": 274,
    "start_time": "2023-12-10T18:55:30.572Z"
   },
   {
    "duration": 13,
    "start_time": "2023-12-10T18:59:37.716Z"
   },
   {
    "duration": 11,
    "start_time": "2023-12-10T18:59:47.249Z"
   },
   {
    "duration": 10,
    "start_time": "2023-12-10T18:59:52.514Z"
   },
   {
    "duration": 401,
    "start_time": "2023-12-10T19:00:05.359Z"
   },
   {
    "duration": 12,
    "start_time": "2023-12-10T19:00:20.265Z"
   },
   {
    "duration": 493,
    "start_time": "2023-12-10T19:02:40.864Z"
   },
   {
    "duration": 18,
    "start_time": "2023-12-10T19:03:14.031Z"
   },
   {
    "duration": 13,
    "start_time": "2023-12-10T19:04:51.645Z"
   },
   {
    "duration": 15,
    "start_time": "2023-12-10T19:06:01.076Z"
   },
   {
    "duration": 12,
    "start_time": "2023-12-10T19:06:28.373Z"
   },
   {
    "duration": 8,
    "start_time": "2023-12-10T19:07:22.677Z"
   },
   {
    "duration": 8,
    "start_time": "2023-12-10T19:07:32.391Z"
   },
   {
    "duration": 8,
    "start_time": "2023-12-10T19:07:44.375Z"
   },
   {
    "duration": 12,
    "start_time": "2023-12-10T19:07:49.715Z"
   },
   {
    "duration": 11,
    "start_time": "2023-12-10T19:07:58.603Z"
   },
   {
    "duration": 20,
    "start_time": "2023-12-10T19:11:18.516Z"
   },
   {
    "duration": 3,
    "start_time": "2023-12-10T19:11:47.340Z"
   },
   {
    "duration": 68,
    "start_time": "2023-12-10T19:11:47.697Z"
   },
   {
    "duration": 15,
    "start_time": "2023-12-10T19:11:48.060Z"
   },
   {
    "duration": 15,
    "start_time": "2023-12-10T19:11:48.247Z"
   },
   {
    "duration": 13,
    "start_time": "2023-12-10T19:11:48.432Z"
   },
   {
    "duration": 11,
    "start_time": "2023-12-10T19:11:49.541Z"
   },
   {
    "duration": 16,
    "start_time": "2023-12-10T19:11:49.911Z"
   },
   {
    "duration": 5,
    "start_time": "2023-12-10T19:11:50.296Z"
   },
   {
    "duration": 5,
    "start_time": "2023-12-10T19:11:50.695Z"
   },
   {
    "duration": 9,
    "start_time": "2023-12-10T19:11:51.422Z"
   },
   {
    "duration": 13,
    "start_time": "2023-12-10T19:11:51.795Z"
   },
   {
    "duration": 147,
    "start_time": "2023-12-10T19:11:52.381Z"
   },
   {
    "duration": 11,
    "start_time": "2023-12-10T19:11:52.777Z"
   },
   {
    "duration": 11,
    "start_time": "2023-12-10T19:11:53.163Z"
   },
   {
    "duration": 14,
    "start_time": "2023-12-10T19:11:53.559Z"
   },
   {
    "duration": 149,
    "start_time": "2023-12-10T19:11:53.741Z"
   },
   {
    "duration": 9,
    "start_time": "2023-12-10T19:11:54.133Z"
   },
   {
    "duration": 9,
    "start_time": "2023-12-10T19:11:54.531Z"
   },
   {
    "duration": 6,
    "start_time": "2023-12-10T19:11:54.910Z"
   },
   {
    "duration": 7,
    "start_time": "2023-12-10T19:11:55.270Z"
   },
   {
    "duration": 16,
    "start_time": "2023-12-10T19:11:55.630Z"
   },
   {
    "duration": 141,
    "start_time": "2023-12-10T19:11:56.011Z"
   },
   {
    "duration": 135,
    "start_time": "2023-12-10T19:11:56.398Z"
   },
   {
    "duration": 3,
    "start_time": "2023-12-10T19:11:56.790Z"
   },
   {
    "duration": 15,
    "start_time": "2023-12-10T19:11:57.900Z"
   },
   {
    "duration": 6,
    "start_time": "2023-12-10T19:11:58.471Z"
   },
   {
    "duration": 283,
    "start_time": "2023-12-10T19:11:58.828Z"
   },
   {
    "duration": 13,
    "start_time": "2023-12-10T19:12:02.931Z"
   },
   {
    "duration": 318,
    "start_time": "2023-12-10T19:12:39.519Z"
   },
   {
    "duration": 10,
    "start_time": "2023-12-10T19:12:56.704Z"
   },
   {
    "duration": 303,
    "start_time": "2023-12-10T19:12:57.279Z"
   },
   {
    "duration": 281,
    "start_time": "2023-12-10T19:17:23.161Z"
   },
   {
    "duration": 292,
    "start_time": "2023-12-10T19:18:08.613Z"
   },
   {
    "duration": 392,
    "start_time": "2023-12-10T19:18:38.118Z"
   },
   {
    "duration": 4,
    "start_time": "2023-12-10T19:22:56.365Z"
   },
   {
    "duration": 33,
    "start_time": "2023-12-10T19:36:25.921Z"
   },
   {
    "duration": 4,
    "start_time": "2023-12-10T19:36:28.968Z"
   },
   {
    "duration": 21,
    "start_time": "2023-12-10T19:36:31.783Z"
   },
   {
    "duration": 544,
    "start_time": "2023-12-10T19:36:35.395Z"
   },
   {
    "duration": 565,
    "start_time": "2023-12-10T19:36:44.582Z"
   },
   {
    "duration": 321,
    "start_time": "2023-12-10T19:38:06.605Z"
   },
   {
    "duration": 316,
    "start_time": "2023-12-10T19:41:09.111Z"
   },
   {
    "duration": 320,
    "start_time": "2023-12-10T19:41:21.635Z"
   },
   {
    "duration": 325,
    "start_time": "2023-12-10T19:41:59.915Z"
   },
   {
    "duration": 332,
    "start_time": "2023-12-10T19:42:27.668Z"
   },
   {
    "duration": 325,
    "start_time": "2023-12-10T19:42:38.003Z"
   },
   {
    "duration": 462,
    "start_time": "2023-12-10T19:43:59.676Z"
   },
   {
    "duration": 327,
    "start_time": "2023-12-10T19:44:08.059Z"
   },
   {
    "duration": 346,
    "start_time": "2023-12-10T19:44:32.838Z"
   },
   {
    "duration": 326,
    "start_time": "2023-12-10T19:44:52.712Z"
   },
   {
    "duration": 336,
    "start_time": "2023-12-10T19:46:13.621Z"
   },
   {
    "duration": 79,
    "start_time": "2023-12-10T19:46:23.619Z"
   },
   {
    "duration": 79,
    "start_time": "2023-12-10T19:46:32.429Z"
   },
   {
    "duration": 76,
    "start_time": "2023-12-10T19:46:40.955Z"
   },
   {
    "duration": 71,
    "start_time": "2023-12-10T19:46:55.656Z"
   },
   {
    "duration": 82,
    "start_time": "2023-12-10T19:47:41.995Z"
   },
   {
    "duration": 80,
    "start_time": "2023-12-10T19:47:51.202Z"
   },
   {
    "duration": 351,
    "start_time": "2023-12-10T19:49:08.498Z"
   },
   {
    "duration": 366,
    "start_time": "2023-12-10T19:49:46.872Z"
   },
   {
    "duration": 357,
    "start_time": "2023-12-10T19:52:10.617Z"
   },
   {
    "duration": 344,
    "start_time": "2023-12-10T19:52:24.015Z"
   },
   {
    "duration": 329,
    "start_time": "2023-12-10T19:52:37.796Z"
   },
   {
    "duration": 353,
    "start_time": "2023-12-10T19:52:42.951Z"
   },
   {
    "duration": 519,
    "start_time": "2023-12-10T19:54:32.738Z"
   },
   {
    "duration": 356,
    "start_time": "2023-12-10T20:13:02.970Z"
   },
   {
    "duration": 676,
    "start_time": "2023-12-10T20:13:29.443Z"
   },
   {
    "duration": 10,
    "start_time": "2023-12-10T20:16:18.682Z"
   },
   {
    "duration": 1241,
    "start_time": "2023-12-10T20:17:25.163Z"
   },
   {
    "duration": 287,
    "start_time": "2023-12-10T20:17:40.090Z"
   },
   {
    "duration": 10,
    "start_time": "2023-12-10T20:18:35.042Z"
   },
   {
    "duration": 287,
    "start_time": "2023-12-10T20:18:42.209Z"
   },
   {
    "duration": 12,
    "start_time": "2023-12-10T20:19:15.345Z"
   },
   {
    "duration": 1528,
    "start_time": "2023-12-10T20:19:44.851Z"
   },
   {
    "duration": 260,
    "start_time": "2023-12-10T20:19:55.595Z"
   },
   {
    "duration": 221,
    "start_time": "2023-12-10T20:20:24.688Z"
   },
   {
    "duration": 1158,
    "start_time": "2023-12-10T20:22:07.116Z"
   },
   {
    "duration": 13,
    "start_time": "2023-12-10T20:33:55.887Z"
   },
   {
    "duration": 193,
    "start_time": "2023-12-10T20:36:21.099Z"
   },
   {
    "duration": 191,
    "start_time": "2023-12-10T20:36:29.317Z"
   },
   {
    "duration": 190,
    "start_time": "2023-12-10T20:36:39.021Z"
   },
   {
    "duration": 291,
    "start_time": "2023-12-10T20:36:46.397Z"
   },
   {
    "duration": 191,
    "start_time": "2023-12-10T20:41:52.876Z"
   },
   {
    "duration": 203,
    "start_time": "2023-12-10T20:43:01.302Z"
   },
   {
    "duration": 292,
    "start_time": "2023-12-10T20:43:24.470Z"
   },
   {
    "duration": 399,
    "start_time": "2023-12-10T20:43:57.351Z"
   },
   {
    "duration": 296,
    "start_time": "2023-12-10T20:45:09.720Z"
   },
   {
    "duration": 300,
    "start_time": "2023-12-10T20:45:21.615Z"
   },
   {
    "duration": 211,
    "start_time": "2023-12-10T20:45:44.689Z"
   },
   {
    "duration": 212,
    "start_time": "2023-12-10T20:46:16.271Z"
   },
   {
    "duration": 200,
    "start_time": "2023-12-10T20:47:07.388Z"
   },
   {
    "duration": 196,
    "start_time": "2023-12-10T20:47:15.375Z"
   },
   {
    "duration": 192,
    "start_time": "2023-12-10T20:51:12.777Z"
   },
   {
    "duration": 317,
    "start_time": "2023-12-10T20:51:30.105Z"
   },
   {
    "duration": 195,
    "start_time": "2023-12-10T20:51:45.010Z"
   },
   {
    "duration": 188,
    "start_time": "2023-12-10T20:51:53.703Z"
   },
   {
    "duration": 207,
    "start_time": "2023-12-10T20:52:20.567Z"
   },
   {
    "duration": 199,
    "start_time": "2023-12-10T20:52:43.643Z"
   },
   {
    "duration": 192,
    "start_time": "2023-12-10T20:52:50.994Z"
   },
   {
    "duration": 214,
    "start_time": "2023-12-10T20:55:03.314Z"
   },
   {
    "duration": 213,
    "start_time": "2023-12-10T20:55:18.206Z"
   }
  ],
  "kernelspec": {
   "display_name": "Python 3 (ipykernel)",
   "language": "python",
   "name": "python3"
  },
  "language_info": {
   "codemirror_mode": {
    "name": "ipython",
    "version": 3
   },
   "file_extension": ".py",
   "mimetype": "text/x-python",
   "name": "python",
   "nbconvert_exporter": "python",
   "pygments_lexer": "ipython3",
   "version": "3.9.5"
  },
  "toc": {
   "base_numbering": 1,
   "nav_menu": {},
   "number_sections": true,
   "sideBar": true,
   "skip_h1_title": true,
   "title_cell": "Table of Contents",
   "title_sidebar": "Contents",
   "toc_cell": false,
   "toc_position": {},
   "toc_section_display": true,
   "toc_window_display": false
  }
 },
 "nbformat": 4,
 "nbformat_minor": 5
}
